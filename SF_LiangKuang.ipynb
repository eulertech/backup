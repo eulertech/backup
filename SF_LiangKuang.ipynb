{
 "cells": [
  {
   "cell_type": "markdown",
   "metadata": {},
   "source": [
    "# State Farm Work Assignment\n",
    "1. Load the training and test data\n",
    "2. explore data set for feature types, missing data and etc\n",
    "    * feature selection\n",
    "    * feature correlation matrix\n",
    "3. Build the 1st linear regression model and test its accuracy\n",
    "4. Feature extraction for the loan reason (bag of words, tf-idf, hashing etc)\n",
    "5. Build simple linear regression model without highly-correlated features\n",
    "6. Build second model (regression tree, random forest or polynomial features, SVM etc)"
   ]
  },
  {
   "cell_type": "markdown",
   "metadata": {},
   "source": [
    "# Load the dataset and explore it"
   ]
  },
  {
   "cell_type": "code",
   "execution_count": 28,
   "metadata": {
    "collapsed": false
   },
   "outputs": [],
   "source": [
    "import numpy as np\n",
    "import pandas as pd\n",
    "import matplotlib.pyplot as plt\n",
    "from sklearn import preprocessing\n",
    "import csv,re,os,codecs\n",
    "from datetime import datetime\n",
    "import nltk\n",
    "from sklearn import feature_extraction\n",
    "# coding: utf-8\n",
    "pd.set_option('mode.chained_assignment',None)\n",
    "%matplotlib inline"
   ]
  },
  {
   "cell_type": "code",
   "execution_count": 29,
   "metadata": {
    "collapsed": true
   },
   "outputs": [],
   "source": [
    "def money_cleaner(money_str):\n",
    "    #remove dollar sign and coma for money\n",
    "    from re import sub\n",
    "    from decimal import Decimal\n",
    "    return Decimal(sub(r'[^\\d\\-.]','',money_str))\n"
   ]
  },
  {
   "cell_type": "code",
   "execution_count": 30,
   "metadata": {
    "collapsed": true
   },
   "outputs": [],
   "source": [
    "# read the metadata into a dictionary\n",
    "with open('Metadata.csv','r') as fh_meta:\n",
    "    metadata = dict(filter(None, csv.reader(fh_meta)))"
   ]
  },
  {
   "cell_type": "code",
   "execution_count": 31,
   "metadata": {
    "collapsed": false
   },
   "outputs": [
    {
     "data": {
      "text/html": [
       "<div>\n",
       "<table border=\"1\" class=\"dataframe\">\n",
       "  <thead>\n",
       "    <tr style=\"text-align: right;\">\n",
       "      <th></th>\n",
       "      <th>X1</th>\n",
       "      <th>X2</th>\n",
       "      <th>X3</th>\n",
       "      <th>X4</th>\n",
       "      <th>X5</th>\n",
       "      <th>X6</th>\n",
       "      <th>X7</th>\n",
       "      <th>X8</th>\n",
       "      <th>X9</th>\n",
       "      <th>X10</th>\n",
       "      <th>...</th>\n",
       "      <th>X23</th>\n",
       "      <th>X24</th>\n",
       "      <th>X25</th>\n",
       "      <th>X26</th>\n",
       "      <th>X27</th>\n",
       "      <th>X28</th>\n",
       "      <th>X29</th>\n",
       "      <th>X30</th>\n",
       "      <th>X31</th>\n",
       "      <th>X32</th>\n",
       "    </tr>\n",
       "  </thead>\n",
       "  <tbody>\n",
       "    <tr>\n",
       "      <th>0</th>\n",
       "      <td>11.89%</td>\n",
       "      <td>54734.0</td>\n",
       "      <td>80364.0</td>\n",
       "      <td>$25,000</td>\n",
       "      <td>$25,000</td>\n",
       "      <td>$19,080</td>\n",
       "      <td>36 months</td>\n",
       "      <td>B</td>\n",
       "      <td>B4</td>\n",
       "      <td>NaN</td>\n",
       "      <td>...</td>\n",
       "      <td>Feb-94</td>\n",
       "      <td>0.0</td>\n",
       "      <td>NaN</td>\n",
       "      <td>NaN</td>\n",
       "      <td>10.0</td>\n",
       "      <td>0.0</td>\n",
       "      <td>28854.0</td>\n",
       "      <td>52.10%</td>\n",
       "      <td>42.0</td>\n",
       "      <td>f</td>\n",
       "    </tr>\n",
       "    <tr>\n",
       "      <th>1</th>\n",
       "      <td>10.71%</td>\n",
       "      <td>55742.0</td>\n",
       "      <td>114426.0</td>\n",
       "      <td>$7,000</td>\n",
       "      <td>$7,000</td>\n",
       "      <td>$673</td>\n",
       "      <td>36 months</td>\n",
       "      <td>B</td>\n",
       "      <td>B5</td>\n",
       "      <td>CNN</td>\n",
       "      <td>...</td>\n",
       "      <td>Oct-00</td>\n",
       "      <td>0.0</td>\n",
       "      <td>NaN</td>\n",
       "      <td>NaN</td>\n",
       "      <td>7.0</td>\n",
       "      <td>0.0</td>\n",
       "      <td>33623.0</td>\n",
       "      <td>76.70%</td>\n",
       "      <td>7.0</td>\n",
       "      <td>f</td>\n",
       "    </tr>\n",
       "    <tr>\n",
       "      <th>2</th>\n",
       "      <td>16.99%</td>\n",
       "      <td>57167.0</td>\n",
       "      <td>137225.0</td>\n",
       "      <td>$25,000</td>\n",
       "      <td>$25,000</td>\n",
       "      <td>$24,725</td>\n",
       "      <td>36 months</td>\n",
       "      <td>D</td>\n",
       "      <td>D3</td>\n",
       "      <td>Web Programmer</td>\n",
       "      <td>...</td>\n",
       "      <td>Jun-00</td>\n",
       "      <td>0.0</td>\n",
       "      <td>41.0</td>\n",
       "      <td>NaN</td>\n",
       "      <td>10.0</td>\n",
       "      <td>0.0</td>\n",
       "      <td>19878.0</td>\n",
       "      <td>66.30%</td>\n",
       "      <td>17.0</td>\n",
       "      <td>f</td>\n",
       "    </tr>\n",
       "    <tr>\n",
       "      <th>3</th>\n",
       "      <td>13.11%</td>\n",
       "      <td>57245.0</td>\n",
       "      <td>138150.0</td>\n",
       "      <td>$1,200</td>\n",
       "      <td>$1,200</td>\n",
       "      <td>$1,200</td>\n",
       "      <td>36 months</td>\n",
       "      <td>C</td>\n",
       "      <td>C2</td>\n",
       "      <td>city of beaumont texas</td>\n",
       "      <td>...</td>\n",
       "      <td>Jan-85</td>\n",
       "      <td>0.0</td>\n",
       "      <td>64.0</td>\n",
       "      <td>NaN</td>\n",
       "      <td>5.0</td>\n",
       "      <td>0.0</td>\n",
       "      <td>2584.0</td>\n",
       "      <td>40.40%</td>\n",
       "      <td>31.0</td>\n",
       "      <td>f</td>\n",
       "    </tr>\n",
       "    <tr>\n",
       "      <th>4</th>\n",
       "      <td>13.57%</td>\n",
       "      <td>57416.0</td>\n",
       "      <td>139635.0</td>\n",
       "      <td>$10,800</td>\n",
       "      <td>$10,800</td>\n",
       "      <td>$10,692</td>\n",
       "      <td>36 months</td>\n",
       "      <td>C</td>\n",
       "      <td>C3</td>\n",
       "      <td>State Farm Insurance</td>\n",
       "      <td>...</td>\n",
       "      <td>Dec-96</td>\n",
       "      <td>1.0</td>\n",
       "      <td>58.0</td>\n",
       "      <td>NaN</td>\n",
       "      <td>14.0</td>\n",
       "      <td>0.0</td>\n",
       "      <td>3511.0</td>\n",
       "      <td>25.60%</td>\n",
       "      <td>40.0</td>\n",
       "      <td>f</td>\n",
       "    </tr>\n",
       "  </tbody>\n",
       "</table>\n",
       "<p>5 rows × 32 columns</p>\n",
       "</div>"
      ],
      "text/plain": [
       "       X1       X2        X3       X4       X5       X6          X7 X8  X9  \\\n",
       "0  11.89%  54734.0   80364.0  $25,000  $25,000  $19,080   36 months  B  B4   \n",
       "1  10.71%  55742.0  114426.0   $7,000   $7,000     $673   36 months  B  B5   \n",
       "2  16.99%  57167.0  137225.0  $25,000  $25,000  $24,725   36 months  D  D3   \n",
       "3  13.11%  57245.0  138150.0   $1,200   $1,200   $1,200   36 months  C  C2   \n",
       "4  13.57%  57416.0  139635.0  $10,800  $10,800  $10,692   36 months  C  C3   \n",
       "\n",
       "                      X10 ...     X23  X24   X25 X26   X27  X28      X29  \\\n",
       "0                     NaN ...  Feb-94  0.0   NaN NaN  10.0  0.0  28854.0   \n",
       "1                     CNN ...  Oct-00  0.0   NaN NaN   7.0  0.0  33623.0   \n",
       "2          Web Programmer ...  Jun-00  0.0  41.0 NaN  10.0  0.0  19878.0   \n",
       "3  city of beaumont texas ...  Jan-85  0.0  64.0 NaN   5.0  0.0   2584.0   \n",
       "4    State Farm Insurance ...  Dec-96  1.0  58.0 NaN  14.0  0.0   3511.0   \n",
       "\n",
       "      X30   X31 X32  \n",
       "0  52.10%  42.0   f  \n",
       "1  76.70%   7.0   f  \n",
       "2  66.30%  17.0   f  \n",
       "3  40.40%  31.0   f  \n",
       "4  25.60%  40.0   f  \n",
       "\n",
       "[5 rows x 32 columns]"
      ]
     },
     "execution_count": 31,
     "metadata": {},
     "output_type": "execute_result"
    }
   ],
   "source": [
    "train = pd.read_csv('Data for Cleaning & Modeling.csv',sep=',',header=0,low_memory=False,date_parser=[14,22],na_values=[]) \n",
    "train.head()"
   ]
  },
  {
   "cell_type": "code",
   "execution_count": 32,
   "metadata": {
    "collapsed": false
   },
   "outputs": [
    {
     "data": {
      "text/html": [
       "<div>\n",
       "<table border=\"1\" class=\"dataframe\">\n",
       "  <thead>\n",
       "    <tr style=\"text-align: right;\">\n",
       "      <th></th>\n",
       "      <th>X1</th>\n",
       "      <th>X2</th>\n",
       "      <th>X3</th>\n",
       "      <th>X4</th>\n",
       "      <th>X5</th>\n",
       "      <th>X6</th>\n",
       "      <th>X7</th>\n",
       "      <th>X8</th>\n",
       "      <th>X9</th>\n",
       "      <th>X10</th>\n",
       "      <th>...</th>\n",
       "      <th>X23</th>\n",
       "      <th>X24</th>\n",
       "      <th>X25</th>\n",
       "      <th>X26</th>\n",
       "      <th>X27</th>\n",
       "      <th>X28</th>\n",
       "      <th>X29</th>\n",
       "      <th>X30</th>\n",
       "      <th>X31</th>\n",
       "      <th>X32</th>\n",
       "    </tr>\n",
       "  </thead>\n",
       "  <tbody>\n",
       "    <tr>\n",
       "      <th>0</th>\n",
       "      <td>NaN</td>\n",
       "      <td>44409194</td>\n",
       "      <td>47416907</td>\n",
       "      <td>$6,000</td>\n",
       "      <td>$6,000</td>\n",
       "      <td>$6,000</td>\n",
       "      <td>36 months</td>\n",
       "      <td>C</td>\n",
       "      <td>C5</td>\n",
       "      <td>Electrician</td>\n",
       "      <td>...</td>\n",
       "      <td>2-Nov</td>\n",
       "      <td>1</td>\n",
       "      <td>26.0</td>\n",
       "      <td>NaN</td>\n",
       "      <td>18</td>\n",
       "      <td>0</td>\n",
       "      <td>19861</td>\n",
       "      <td>64.50%</td>\n",
       "      <td>33</td>\n",
       "      <td>f</td>\n",
       "    </tr>\n",
       "    <tr>\n",
       "      <th>1</th>\n",
       "      <td>NaN</td>\n",
       "      <td>44017917</td>\n",
       "      <td>47034722</td>\n",
       "      <td>$24,000</td>\n",
       "      <td>$24,000</td>\n",
       "      <td>$24,000</td>\n",
       "      <td>36 months</td>\n",
       "      <td>A</td>\n",
       "      <td>A1</td>\n",
       "      <td>Executive Assistant</td>\n",
       "      <td>...</td>\n",
       "      <td>Dec-68</td>\n",
       "      <td>1</td>\n",
       "      <td>NaN</td>\n",
       "      <td>NaN</td>\n",
       "      <td>12</td>\n",
       "      <td>0</td>\n",
       "      <td>17001</td>\n",
       "      <td>26.20%</td>\n",
       "      <td>36</td>\n",
       "      <td>w</td>\n",
       "    </tr>\n",
       "    <tr>\n",
       "      <th>2</th>\n",
       "      <td>NaN</td>\n",
       "      <td>44259158</td>\n",
       "      <td>47306871</td>\n",
       "      <td>$35,000</td>\n",
       "      <td>$35,000</td>\n",
       "      <td>$35,000</td>\n",
       "      <td>36 months</td>\n",
       "      <td>C</td>\n",
       "      <td>C2</td>\n",
       "      <td>District Sales Leader</td>\n",
       "      <td>...</td>\n",
       "      <td>Oct-98</td>\n",
       "      <td>0</td>\n",
       "      <td>NaN</td>\n",
       "      <td>NaN</td>\n",
       "      <td>16</td>\n",
       "      <td>0</td>\n",
       "      <td>25797</td>\n",
       "      <td>49.90%</td>\n",
       "      <td>33</td>\n",
       "      <td>w</td>\n",
       "    </tr>\n",
       "    <tr>\n",
       "      <th>3</th>\n",
       "      <td>NaN</td>\n",
       "      <td>44429213</td>\n",
       "      <td>47476932</td>\n",
       "      <td>$10,000</td>\n",
       "      <td>$10,000</td>\n",
       "      <td>$10,000</td>\n",
       "      <td>60 months</td>\n",
       "      <td>D</td>\n",
       "      <td>D1</td>\n",
       "      <td>pharmacy associate</td>\n",
       "      <td>...</td>\n",
       "      <td>Feb-99</td>\n",
       "      <td>1</td>\n",
       "      <td>NaN</td>\n",
       "      <td>114.0</td>\n",
       "      <td>13</td>\n",
       "      <td>1</td>\n",
       "      <td>9586</td>\n",
       "      <td>43.80%</td>\n",
       "      <td>21</td>\n",
       "      <td>w</td>\n",
       "    </tr>\n",
       "    <tr>\n",
       "      <th>4</th>\n",
       "      <td>NaN</td>\n",
       "      <td>44299188</td>\n",
       "      <td>47346901</td>\n",
       "      <td>$24,000</td>\n",
       "      <td>$24,000</td>\n",
       "      <td>$24,000</td>\n",
       "      <td>60 months</td>\n",
       "      <td>B</td>\n",
       "      <td>B1</td>\n",
       "      <td>Medical case manager</td>\n",
       "      <td>...</td>\n",
       "      <td>2-Dec</td>\n",
       "      <td>0</td>\n",
       "      <td>48.0</td>\n",
       "      <td>NaN</td>\n",
       "      <td>27</td>\n",
       "      <td>0</td>\n",
       "      <td>31842</td>\n",
       "      <td>41.30%</td>\n",
       "      <td>43</td>\n",
       "      <td>w</td>\n",
       "    </tr>\n",
       "  </tbody>\n",
       "</table>\n",
       "<p>5 rows × 32 columns</p>\n",
       "</div>"
      ],
      "text/plain": [
       "   X1        X2        X3       X4       X5       X6          X7 X8  X9  \\\n",
       "0 NaN  44409194  47416907   $6,000   $6,000   $6,000   36 months  C  C5   \n",
       "1 NaN  44017917  47034722  $24,000  $24,000  $24,000   36 months  A  A1   \n",
       "2 NaN  44259158  47306871  $35,000  $35,000  $35,000   36 months  C  C2   \n",
       "3 NaN  44429213  47476932  $10,000  $10,000  $10,000   60 months  D  D1   \n",
       "4 NaN  44299188  47346901  $24,000  $24,000  $24,000   60 months  B  B1   \n",
       "\n",
       "                     X10 ...     X23 X24   X25    X26 X27 X28    X29     X30  \\\n",
       "0            Electrician ...   2-Nov   1  26.0    NaN  18   0  19861  64.50%   \n",
       "1    Executive Assistant ...  Dec-68   1   NaN    NaN  12   0  17001  26.20%   \n",
       "2  District Sales Leader ...  Oct-98   0   NaN    NaN  16   0  25797  49.90%   \n",
       "3     pharmacy associate ...  Feb-99   1   NaN  114.0  13   1   9586  43.80%   \n",
       "4   Medical case manager ...   2-Dec   0  48.0    NaN  27   0  31842  41.30%   \n",
       "\n",
       "  X31 X32  \n",
       "0  33   f  \n",
       "1  36   w  \n",
       "2  33   w  \n",
       "3  21   w  \n",
       "4  43   w  \n",
       "\n",
       "[5 rows x 32 columns]"
      ]
     },
     "execution_count": 32,
     "metadata": {},
     "output_type": "execute_result"
    }
   ],
   "source": [
    "test = pd.read_csv('Holdout for Testing.csv',sep=',',header=0,low_memory=False,date_parser=[14,22],na_values=[])\n",
    "test.head()\n"
   ]
  },
  {
   "cell_type": "code",
   "execution_count": 33,
   "metadata": {
    "collapsed": false
   },
   "outputs": [],
   "source": [
    "#columns to transform and clean up after converting types\n",
    "for n in train.columns:\n",
    "    if (train.dtypes[n] == 'object'):\n",
    "        #print(\"Converting column %s to String Type.\"%n)\n",
    "        train[n] = train[n].astype('str')       \n",
    "#same for test dataset, just in case there are difference\n",
    "for n in test.columns:   \n",
    "    if (test.dtypes[n] == 'object'):\n",
    "        #print(\"Converting column %s to String Type.\"%n)\n",
    "        test[n] = test[n].astype('str')       "
   ]
  },
  {
   "cell_type": "code",
   "execution_count": 34,
   "metadata": {
    "collapsed": false
   },
   "outputs": [
    {
     "name": "stdout",
     "output_type": "stream",
     "text": [
      "((400000, 32), (80000, 32), (480000, 32))\n"
     ]
    }
   ],
   "source": [
    "#merge training and test data set for transforming and cleaning\n",
    "train['X1'] = train['X1'].apply(lambda x: float(x.rstrip('%')))\n",
    "all_data = train.append(test)\n",
    "print(train.shape[:],test.shape[:],all_data.shape[:])"
   ]
  },
  {
   "cell_type": "code",
   "execution_count": 35,
   "metadata": {
    "collapsed": false
   },
   "outputs": [],
   "source": [
    "#make sure data merged correctly\n",
    "assert str(all_data.iloc[400001]['X16']) == str(test.iloc[1]['X16']),\"Hey,Someting is wrong after merge at column \" + col\n",
    "assert str(all_data.iloc[400001]['X4']) == str(test.iloc[1]['X4']),\"Hey,Someting is wrong after merge at column \" + col"
   ]
  },
  {
   "cell_type": "markdown",
   "metadata": {},
   "source": [
    "## Data transforming and cleaning.\n",
    "```#cols_cleanup = ['X1','X4','X5','X6','X7','X11','X15','X23','X30','X19']\n",
    "```"
   ]
  },
  {
   "cell_type": "code",
   "execution_count": 36,
   "metadata": {
    "collapsed": false
   },
   "outputs": [],
   "source": [
    "all_data['X30'] = all_data['X30'].apply(lambda x: float(x.rstrip('%')))"
   ]
  },
  {
   "cell_type": "code",
   "execution_count": 37,
   "metadata": {
    "collapsed": false
   },
   "outputs": [],
   "source": [
    "all_data['X4'] = all_data['X4'].apply(lambda x:float(x.replace('$','').replace(',','')))\n",
    "all_data['X5'] = all_data['X5'].apply(lambda x:float(x.replace('$','').replace(',','')))\n",
    "all_data['X6'] = all_data['X6'].apply(lambda x:float(x.replace('$','').replace(',','')))\n",
    "all_data['X7'] = all_data['X7'].apply(lambda x:float(x.split()[0]))\n",
    "all_data['X19'] = all_data['X19'].apply(lambda x: float(x[0:3]))"
   ]
  },
  {
   "cell_type": "code",
   "execution_count": 38,
   "metadata": {
    "collapsed": false
   },
   "outputs": [],
   "source": [
    "#special treatment for number of year empoloyed\n",
    "# < 1 year set to zero; >=10 to 10\n",
    "def num_year_employed_strip(string):\n",
    "    num_year_employed = re.findall(\"[-\\d]+\",string)\n",
    "    if(len(num_year_employed) == 0):\n",
    "        return np.nan\n",
    "    elif((string.find('<') == 0) and (len(num_year_employed) >= 1)):\n",
    "        return 0\n",
    "    else:\n",
    "        return float(num_year_employed[0])\n",
    "    \n",
    "all_data['X11'] = all_data['X11'].apply(lambda x: num_year_employed_strip(x) )"
   ]
  },
  {
   "cell_type": "code",
   "execution_count": 39,
   "metadata": {
    "collapsed": false
   },
   "outputs": [],
   "source": [
    "def x15_parser(d):\n",
    "        try:\n",
    "            return datetime.strptime(d,'%b-%d')\n",
    "        except ValueError:\n",
    "            return np.nan\n",
    "        else:\n",
    "            return datetime.strptime(d,'%d-%b')\n",
    "        \n",
    "all_data['X15'] = all_data['X15'].apply(lambda d: x15_parser(d))\n",
    "\n"
   ]
  },
  {
   "cell_type": "code",
   "execution_count": 40,
   "metadata": {
    "collapsed": false
   },
   "outputs": [],
   "source": [
    "#X23 is more complicated than x15 as it contains day-month and Mon-Year\n",
    "def x23_parser(d):\n",
    "    try:\n",
    "        return datetime.strptime(d,'%b-%y')\n",
    "    except ValueError:\n",
    "        return np.nan\n",
    "    else:\n",
    "        return datetime.strptime(d,'%d-%b')\n",
    "        \n",
    "all_data['X23'] = all_data['X23'].apply(lambda d: x23_parser(d))        "
   ]
  },
  {
   "cell_type": "code",
   "execution_count": 41,
   "metadata": {
    "collapsed": false
   },
   "outputs": [],
   "source": [
    "#check any duplicate borrower and loans\n",
    "assert len(all_data['X2'].unique()) == all_data.shape[0], \"duplicate loans exist\"\n",
    "assert len(all_data['X3'].unique()) == all_data.shape[0], \"duplicate borrowers exist\""
   ]
  },
  {
   "cell_type": "markdown",
   "metadata": {},
   "source": [
    "## Process column X16 with TF-IDF and clustering for loan reasons\n",
    "1. First remove stop words and stem it\n",
    "2. Compute TF-IDF and then compute similarity matrix\n",
    "3. Use K-mean cluster to group the loan reasons\n",
    "4. Assign cluster group to a new loan reason"
   ]
  },
  {
   "cell_type": "code",
   "execution_count": 42,
   "metadata": {
    "collapsed": false
   },
   "outputs": [
    {
     "name": "stdout",
     "output_type": "stream",
     "text": [
      "Due to a lack of personal finance education and exposure to poor financing skills growing up, I was easy prey for credit predators. I am devoted to becoming debt-free and can assure my lenders that I \n"
     ]
    }
   ],
   "source": [
    "documents = all_data['X16'].tolist()\n",
    "print (documents[0][0:200])  # first 20 characters"
   ]
  },
  {
   "cell_type": "code",
   "execution_count": 43,
   "metadata": {
    "collapsed": false
   },
   "outputs": [],
   "source": [
    "#stopwords, stemming and tokenizing\n",
    "import nltk\n",
    "stopwords = nltk.corpus.stopwords.words('english')\n",
    "from nltk.stem.snowball import SnowballStemmer\n",
    "stemmer = SnowballStemmer(\"english\")"
   ]
  },
  {
   "cell_type": "code",
   "execution_count": 44,
   "metadata": {
    "collapsed": true
   },
   "outputs": [],
   "source": [
    "def tokenize_and_stem(text):\n",
    "    # first tokenize by sentence, then by word to ensure that punctuation is caught as it's own token\n",
    "    tokens = [word for sent in nltk.sent_tokenize(text) for word in nltk.word_tokenize(sent)]\n",
    "    filtered_tokens = []\n",
    "    # filter out any tokens not containing letters (e.g., numeric tokens, raw punctuation)\n",
    "    for token in tokens:\n",
    "        if re.search('[a-zA-Z]', token):\n",
    "            filtered_tokens.append(token)\n",
    "    stems = [stemmer.stem(t) for t in filtered_tokens]\n",
    "    return stems"
   ]
  },
  {
   "cell_type": "markdown",
   "metadata": {},
   "source": [
    "## Try <a href=\"https://radimrehurek.com/gensim/tut2.html\"> gensim for topic modeling </a>  "
   ]
  },
  {
   "cell_type": "code",
   "execution_count": 45,
   "metadata": {
    "collapsed": true
   },
   "outputs": [],
   "source": [
    "import logging\n",
    "logging.basicConfig(format='%(asctime)s : %(levelname)s : %(message)s', level=logging.WARNING)"
   ]
  },
  {
   "cell_type": "code",
   "execution_count": 19,
   "metadata": {
    "collapsed": false
   },
   "outputs": [
    {
     "name": "stderr",
     "output_type": "stream",
     "text": [
      "C:\\Anaconda2\\lib\\site-packages\\gensim\\utils.py:840: UserWarning: detected Windows; aliasing chunkize to chunkize_serial\n",
      "  warnings.warn(\"detected Windows; aliasing chunkize to chunkize_serial\")\n",
      "C:\\Anaconda2\\lib\\site-packages\\gensim\\utils.py:1015: UserWarning: Pattern library is not installed, lemmatization won't be available.\n",
      "  warnings.warn(\"Pattern library is not installed, lemmatization won't be available.\")\n"
     ]
    }
   ],
   "source": [
    "from gensim import corpora, models, similarities"
   ]
  },
  {
   "cell_type": "code",
   "execution_count": 21,
   "metadata": {
    "collapsed": false
   },
   "outputs": [],
   "source": [
    "texts = [tokenize_and_stem(document.decode('utf-8')) for document in documents]"
   ]
  },
  {
   "cell_type": "code",
   "execution_count": 22,
   "metadata": {
    "collapsed": false
   },
   "outputs": [
    {
     "data": {
      "text/plain": [
       "<gensim.corpora.dictionary.Dictionary at 0x487afd0>"
      ]
     },
     "execution_count": 22,
     "metadata": {},
     "output_type": "execute_result"
    }
   ],
   "source": [
    "#dictionary = corpora.Dictionary(texts)  #{'we':11,'not':10,'loan',0} token:id\n",
    "#dictionary.save('dict_token.dict')\n",
    "corpora.Dictionary.load('dict_token.dict')"
   ]
  },
  {
   "cell_type": "code",
   "execution_count": 23,
   "metadata": {
    "collapsed": false
   },
   "outputs": [
    {
     "ename": "NameError",
     "evalue": "name 'texts' is not defined",
     "output_type": "error",
     "traceback": [
      "\u001b[1;31m---------------------------------------------------------------------------\u001b[0m",
      "\u001b[1;31mNameError\u001b[0m                                 Traceback (most recent call last)",
      "\u001b[1;32m<ipython-input-23-e05ed6c04318>\u001b[0m in \u001b[0;36m<module>\u001b[1;34m()\u001b[0m\n\u001b[1;32m----> 1\u001b[1;33m \u001b[0mcorpus\u001b[0m \u001b[1;33m=\u001b[0m \u001b[1;33m[\u001b[0m\u001b[0mdictionary\u001b[0m\u001b[1;33m.\u001b[0m\u001b[0mdoc2bow\u001b[0m\u001b[1;33m(\u001b[0m\u001b[0mtext\u001b[0m\u001b[1;33m)\u001b[0m \u001b[1;32mfor\u001b[0m \u001b[0mtext\u001b[0m \u001b[1;32min\u001b[0m \u001b[0mtexts\u001b[0m\u001b[1;33m]\u001b[0m   \u001b[1;31m#[(0,1),(1,1),(2,1)]\u001b[0m\u001b[1;33m\u001b[0m\u001b[0m\n\u001b[0m",
      "\u001b[1;31mNameError\u001b[0m: name 'texts' is not defined"
     ]
    }
   ],
   "source": [
    "corpus = [dictionary.doc2bow(text) for text in texts]   #[(0,1),(1,1),(2,1)]"
   ]
  },
  {
   "cell_type": "code",
   "execution_count": 23,
   "metadata": {
    "collapsed": false
   },
   "outputs": [
    {
     "name": "stdout",
     "output_type": "stream",
     "text": [
      "[(0, 2), (1, 1), (2, 1), (3, 1), (4, 1), (5, 1), (6, 2), (7, 1), (8, 1), (9, 1), (10, 1), (11, 1), (12, 5), (13, 1), (14, 1), (15, 1), (16, 1), (17, 1), (18, 1), (19, 1), (20, 3), (21, 1), (22, 1), (23, 1), (24, 2), (25, 1), (26, 2), (27, 1), (28, 1), (29, 1), (30, 1), (31, 2), (32, 1), (33, 1), (34, 1), (35, 1), (36, 1), (37, 1), (38, 1), (39, 2), (40, 1), (41, 1), (42, 1), (43, 1)]\n"
     ]
    }
   ],
   "source": [
    "print(corpus[0])"
   ]
  },
  {
   "cell_type": "code",
   "execution_count": null,
   "metadata": {
    "collapsed": true
   },
   "outputs": [],
   "source": [
    "corpora.MmCorpus.serialize('dict_token.txt',corpus) # store to disk, for later use, serialize it one at a time"
   ]
  },
  {
   "cell_type": "code",
   "execution_count": 24,
   "metadata": {
    "collapsed": true
   },
   "outputs": [],
   "source": [
    "tfidf = models.TfidfModel(corpus) # step 1 -- initialize a model"
   ]
  },
  {
   "cell_type": "code",
   "execution_count": 25,
   "metadata": {
    "collapsed": false
   },
   "outputs": [],
   "source": [
    "index = similarities.SparseMatrixSimilarity(tfidf[corpus],num_features=12)"
   ]
  },
  {
   "cell_type": "code",
   "execution_count": 30,
   "metadata": {
    "collapsed": false
   },
   "outputs": [
    {
     "name": "stdout",
     "output_type": "stream",
     "text": [
      "Help on csr_matrix in module scipy.sparse.csr object:\n",
      "\n",
      "class csr_matrix(scipy.sparse.compressed._cs_matrix, scipy.sparse.sputils.IndexMixin)\n",
      " |  Compressed Sparse Row matrix\n",
      " |  \n",
      " |  This can be instantiated in several ways:\n",
      " |      csr_matrix(D)\n",
      " |          with a dense matrix or rank-2 ndarray D\n",
      " |  \n",
      " |      csr_matrix(S)\n",
      " |          with another sparse matrix S (equivalent to S.tocsr())\n",
      " |  \n",
      " |      csr_matrix((M, N), [dtype])\n",
      " |          to construct an empty matrix with shape (M, N)\n",
      " |          dtype is optional, defaulting to dtype='d'.\n",
      " |  \n",
      " |      csr_matrix((data, (row_ind, col_ind)), [shape=(M, N)])\n",
      " |          where ``data``, ``row_ind`` and ``col_ind`` satisfy the\n",
      " |          relationship ``a[row_ind[k], col_ind[k]] = data[k]``.\n",
      " |  \n",
      " |      csr_matrix((data, indices, indptr), [shape=(M, N)])\n",
      " |          is the standard CSR representation where the column indices for\n",
      " |          row i are stored in ``indices[indptr[i]:indptr[i+1]]`` and their\n",
      " |          corresponding values are stored in ``data[indptr[i]:indptr[i+1]]``.\n",
      " |          If the shape parameter is not supplied, the matrix dimensions\n",
      " |          are inferred from the index arrays.\n",
      " |  \n",
      " |  Attributes\n",
      " |  ----------\n",
      " |  dtype : dtype\n",
      " |      Data type of the matrix\n",
      " |  shape : 2-tuple\n",
      " |      Shape of the matrix\n",
      " |  ndim : int\n",
      " |      Number of dimensions (this is always 2)\n",
      " |  nnz\n",
      " |      Number of nonzero elements\n",
      " |  data\n",
      " |      CSR format data array of the matrix\n",
      " |  indices\n",
      " |      CSR format index array of the matrix\n",
      " |  indptr\n",
      " |      CSR format index pointer array of the matrix\n",
      " |  has_sorted_indices\n",
      " |      Whether indices are sorted\n",
      " |  \n",
      " |  Notes\n",
      " |  -----\n",
      " |  \n",
      " |  Sparse matrices can be used in arithmetic operations: they support\n",
      " |  addition, subtraction, multiplication, division, and matrix power.\n",
      " |  \n",
      " |  Advantages of the CSR format\n",
      " |    - efficient arithmetic operations CSR + CSR, CSR * CSR, etc.\n",
      " |    - efficient row slicing\n",
      " |    - fast matrix vector products\n",
      " |  \n",
      " |  Disadvantages of the CSR format\n",
      " |    - slow column slicing operations (consider CSC)\n",
      " |    - changes to the sparsity structure are expensive (consider LIL or DOK)\n",
      " |  \n",
      " |  Examples\n",
      " |  --------\n",
      " |  \n",
      " |  >>> import numpy as np\n",
      " |  >>> from scipy.sparse import csr_matrix\n",
      " |  >>> csr_matrix((3, 4), dtype=np.int8).toarray()\n",
      " |  array([[0, 0, 0, 0],\n",
      " |         [0, 0, 0, 0],\n",
      " |         [0, 0, 0, 0]], dtype=int8)\n",
      " |  \n",
      " |  >>> row = np.array([0, 0, 1, 2, 2, 2])\n",
      " |  >>> col = np.array([0, 2, 2, 0, 1, 2])\n",
      " |  >>> data = np.array([1, 2, 3, 4, 5, 6])\n",
      " |  >>> csr_matrix((data, (row, col)), shape=(3, 3)).toarray()\n",
      " |  array([[1, 0, 2],\n",
      " |         [0, 0, 3],\n",
      " |         [4, 5, 6]])\n",
      " |  \n",
      " |  >>> indptr = np.array([0, 2, 3, 6])\n",
      " |  >>> indices = np.array([0, 2, 2, 0, 1, 2])\n",
      " |  >>> data = np.array([1, 2, 3, 4, 5, 6])\n",
      " |  >>> csr_matrix((data, indices, indptr), shape=(3, 3)).toarray()\n",
      " |  array([[1, 0, 2],\n",
      " |         [0, 0, 3],\n",
      " |         [4, 5, 6]])\n",
      " |  \n",
      " |  As an example of how to construct a CSR matrix incrementally,\n",
      " |  the following snippet builds a term-document matrix from texts:\n",
      " |  \n",
      " |  >>> docs = [[\"hello\", \"world\", \"hello\"], [\"goodbye\", \"cruel\", \"world\"]]\n",
      " |  >>> indptr = [0]\n",
      " |  >>> indices = []\n",
      " |  >>> data = []\n",
      " |  >>> vocabulary = {}\n",
      " |  >>> for d in docs:\n",
      " |  ...     for term in d:\n",
      " |  ...         index = vocabulary.setdefault(term, len(vocabulary))\n",
      " |  ...         indices.append(index)\n",
      " |  ...         data.append(1)\n",
      " |  ...     indptr.append(len(indices))\n",
      " |  ...\n",
      " |  >>> csr_matrix((data, indices, indptr), dtype=int).toarray()\n",
      " |  array([[2, 1, 0, 0],\n",
      " |         [0, 1, 1, 1]])\n",
      " |  \n",
      " |  Method resolution order:\n",
      " |      csr_matrix\n",
      " |      scipy.sparse.compressed._cs_matrix\n",
      " |      scipy.sparse.data._data_matrix\n",
      " |      scipy.sparse.base.spmatrix\n",
      " |      scipy.sparse.data._minmax_mixin\n",
      " |      scipy.sparse.sputils.IndexMixin\n",
      " |      __builtin__.object\n",
      " |  \n",
      " |  Methods defined here:\n",
      " |  \n",
      " |  __getitem__(self, key)\n",
      " |  \n",
      " |  getcol(self, i)\n",
      " |      Returns a copy of column i of the matrix, as a (m x 1)\n",
      " |      CSR matrix (column vector).\n",
      " |  \n",
      " |  getrow(self, i)\n",
      " |      Returns a copy of row i of the matrix, as a (1 x n)\n",
      " |      CSR matrix (row vector).\n",
      " |  \n",
      " |  tobsr(self, blocksize=None, copy=True)\n",
      " |  \n",
      " |  tocsc(self)\n",
      " |  \n",
      " |  tocsr(self, copy=False)\n",
      " |  \n",
      " |  tolil(self)\n",
      " |  \n",
      " |  transpose(self, copy=False)\n",
      " |  \n",
      " |  ----------------------------------------------------------------------\n",
      " |  Methods inherited from scipy.sparse.compressed._cs_matrix:\n",
      " |  \n",
      " |  __add__(self, other)\n",
      " |  \n",
      " |  __eq__(self, other)\n",
      " |  \n",
      " |  __ge__(self, other)\n",
      " |  \n",
      " |  __gt__(self, other)\n",
      " |  \n",
      " |  __init__(self, arg1, shape=None, dtype=None, copy=False)\n",
      " |  \n",
      " |  __le__(self, other)\n",
      " |  \n",
      " |  __lt__(self, other)\n",
      " |  \n",
      " |  __ne__(self, other)\n",
      " |  \n",
      " |  __radd__(self, other)\n",
      " |  \n",
      " |  __rsub__(self, other)\n",
      " |  \n",
      " |  __setitem__(self, index, x)\n",
      " |  \n",
      " |  __sub__(self, other)\n",
      " |  \n",
      " |  check_format(self, full_check=True)\n",
      " |      check whether the matrix format is valid\n",
      " |      \n",
      " |      Parameters\n",
      " |      ----------\n",
      " |      full_check : bool, optional\n",
      " |          If `True`, rigorous check, O(N) operations. Otherwise\n",
      " |          basic check, O(1) operations (default True).\n",
      " |  \n",
      " |  diagonal(self)\n",
      " |      Returns the main diagonal of the matrix\n",
      " |  \n",
      " |  eliminate_zeros(self)\n",
      " |      Remove zero entries from the matrix\n",
      " |      \n",
      " |      This is an *in place* operation\n",
      " |  \n",
      " |  getnnz(self, axis=None)\n",
      " |      Get the count of explicitly-stored values (nonzeros)\n",
      " |      \n",
      " |      Parameters\n",
      " |      ----------\n",
      " |      axis : {None, 0, 1}, optional\n",
      " |          Select between the number of values across the whole matrix, in\n",
      " |          each column, or in each row.\n",
      " |  \n",
      " |  maximum(self, other)\n",
      " |  \n",
      " |  minimum(self, other)\n",
      " |  \n",
      " |  multiply(self, other)\n",
      " |      Point-wise multiplication by another matrix, vector, or\n",
      " |      scalar.\n",
      " |  \n",
      " |  prune(self)\n",
      " |      Remove empty space after all non-zero elements.\n",
      " |  \n",
      " |  sort_indices(self)\n",
      " |      Sort the indices of this matrix *in place*\n",
      " |  \n",
      " |  sorted_indices(self)\n",
      " |      Return a copy of this matrix with sorted indices\n",
      " |  \n",
      " |  sum(self, axis=None)\n",
      " |      Sum the matrix over the given axis.  If the axis is None, sum\n",
      " |      over both rows and columns, returning a scalar.\n",
      " |  \n",
      " |  sum_duplicates(self)\n",
      " |      Eliminate duplicate matrix entries by adding them together\n",
      " |      \n",
      " |      The is an *in place* operation\n",
      " |  \n",
      " |  toarray(self, order=None, out=None)\n",
      " |      See the docstring for `spmatrix.toarray`.\n",
      " |  \n",
      " |  tocoo(self, copy=True)\n",
      " |      Return a COOrdinate representation of this matrix\n",
      " |      \n",
      " |      When copy=False the index and data arrays are not copied.\n",
      " |  \n",
      " |  todia(self)\n",
      " |  \n",
      " |  todok(self)\n",
      " |  \n",
      " |  ----------------------------------------------------------------------\n",
      " |  Data descriptors inherited from scipy.sparse.compressed._cs_matrix:\n",
      " |  \n",
      " |  has_canonical_format\n",
      " |      Determine whether the matrix has sorted indices and no duplicates\n",
      " |      \n",
      " |      Returns\n",
      " |          - True: if the above applies\n",
      " |          - False: otherwise\n",
      " |      \n",
      " |      has_canonical_format implies has_sorted_indices, so if the latter flag\n",
      " |      is False, so will the former be; if the former is found True, the\n",
      " |      latter flag is also set.\n",
      " |  \n",
      " |  has_sorted_indices\n",
      " |      Determine whether the matrix has sorted indices\n",
      " |      \n",
      " |      Returns\n",
      " |          - True: if the indices of the matrix are in sorted order\n",
      " |          - False: otherwise\n",
      " |  \n",
      " |  nnz\n",
      " |      Get the count of explicitly-stored values (nonzeros)\n",
      " |      \n",
      " |      Parameters\n",
      " |      ----------\n",
      " |      axis : {None, 0, 1}, optional\n",
      " |          Select between the number of values across the whole matrix, in\n",
      " |          each column, or in each row.\n",
      " |  \n",
      " |  ----------------------------------------------------------------------\n",
      " |  Methods inherited from scipy.sparse.data._data_matrix:\n",
      " |  \n",
      " |  __abs__(self)\n",
      " |  \n",
      " |  __imul__(self, other)\n",
      " |  \n",
      " |  __itruediv__(self, other)\n",
      " |  \n",
      " |  __neg__(self)\n",
      " |  \n",
      " |  arcsin(self)\n",
      " |      Element-wise arcsin.\n",
      " |      \n",
      " |      See numpy.arcsin for more information.\n",
      " |  \n",
      " |  arcsinh(self)\n",
      " |      Element-wise arcsinh.\n",
      " |      \n",
      " |      See numpy.arcsinh for more information.\n",
      " |  \n",
      " |  arctan(self)\n",
      " |      Element-wise arctan.\n",
      " |      \n",
      " |      See numpy.arctan for more information.\n",
      " |  \n",
      " |  arctanh(self)\n",
      " |      Element-wise arctanh.\n",
      " |      \n",
      " |      See numpy.arctanh for more information.\n",
      " |  \n",
      " |  astype(self, t)\n",
      " |  \n",
      " |  ceil(self)\n",
      " |      Element-wise ceil.\n",
      " |      \n",
      " |      See numpy.ceil for more information.\n",
      " |  \n",
      " |  conj(self)\n",
      " |  \n",
      " |  copy(self)\n",
      " |  \n",
      " |  deg2rad(self)\n",
      " |      Element-wise deg2rad.\n",
      " |      \n",
      " |      See numpy.deg2rad for more information.\n",
      " |  \n",
      " |  expm1(self)\n",
      " |      Element-wise expm1.\n",
      " |      \n",
      " |      See numpy.expm1 for more information.\n",
      " |  \n",
      " |  floor(self)\n",
      " |      Element-wise floor.\n",
      " |      \n",
      " |      See numpy.floor for more information.\n",
      " |  \n",
      " |  log1p(self)\n",
      " |      Element-wise log1p.\n",
      " |      \n",
      " |      See numpy.log1p for more information.\n",
      " |  \n",
      " |  power(self, n, dtype=None)\n",
      " |      This function performs element-wise power.\n",
      " |      \n",
      " |      Parameters\n",
      " |      ----------\n",
      " |      n : n is a scalar\n",
      " |      \n",
      " |      dtype : If dtype is not specified, the current dtype will be preserved.\n",
      " |  \n",
      " |  rad2deg(self)\n",
      " |      Element-wise rad2deg.\n",
      " |      \n",
      " |      See numpy.rad2deg for more information.\n",
      " |  \n",
      " |  rint(self)\n",
      " |      Element-wise rint.\n",
      " |      \n",
      " |      See numpy.rint for more information.\n",
      " |  \n",
      " |  sign(self)\n",
      " |      Element-wise sign.\n",
      " |      \n",
      " |      See numpy.sign for more information.\n",
      " |  \n",
      " |  sin(self)\n",
      " |      Element-wise sin.\n",
      " |      \n",
      " |      See numpy.sin for more information.\n",
      " |  \n",
      " |  sinh(self)\n",
      " |      Element-wise sinh.\n",
      " |      \n",
      " |      See numpy.sinh for more information.\n",
      " |  \n",
      " |  sqrt(self)\n",
      " |      Element-wise sqrt.\n",
      " |      \n",
      " |      See numpy.sqrt for more information.\n",
      " |  \n",
      " |  tan(self)\n",
      " |      Element-wise tan.\n",
      " |      \n",
      " |      See numpy.tan for more information.\n",
      " |  \n",
      " |  tanh(self)\n",
      " |      Element-wise tanh.\n",
      " |      \n",
      " |      See numpy.tanh for more information.\n",
      " |  \n",
      " |  trunc(self)\n",
      " |      Element-wise trunc.\n",
      " |      \n",
      " |      See numpy.trunc for more information.\n",
      " |  \n",
      " |  ----------------------------------------------------------------------\n",
      " |  Data descriptors inherited from scipy.sparse.data._data_matrix:\n",
      " |  \n",
      " |  dtype\n",
      " |  \n",
      " |  ----------------------------------------------------------------------\n",
      " |  Methods inherited from scipy.sparse.base.spmatrix:\n",
      " |  \n",
      " |  __bool__(self)\n",
      " |  \n",
      " |  __div__(self, other)\n",
      " |  \n",
      " |  __getattr__(self, attr)\n",
      " |  \n",
      " |  __iadd__(self, other)\n",
      " |  \n",
      " |  __idiv__(self, other)\n",
      " |  \n",
      " |  __isub__(self, other)\n",
      " |  \n",
      " |  __iter__(self)\n",
      " |  \n",
      " |  __len__(self)\n",
      " |      # What should len(sparse) return? For consistency with dense matrices,\n",
      " |      # perhaps it should be the number of rows?  But for some uses the number of\n",
      " |      # non-zeros is more important.  For now, raise an exception!\n",
      " |  \n",
      " |  __matmul__(self, other)\n",
      " |  \n",
      " |  __mul__(self, other)\n",
      " |      interpret other and call one of the following\n",
      " |      \n",
      " |      self._mul_scalar()\n",
      " |      self._mul_vector()\n",
      " |      self._mul_multivector()\n",
      " |      self._mul_sparse_matrix()\n",
      " |  \n",
      " |  __nonzero__ = __bool__(self)\n",
      " |  \n",
      " |  __numpy_ufunc__(self, func, method, pos, inputs, **kwargs)\n",
      " |      Method for compatibility with NumPy's ufuncs and dot\n",
      " |      functions.\n",
      " |  \n",
      " |  __pow__(self, other)\n",
      " |  \n",
      " |  __rdiv__(self, other)\n",
      " |  \n",
      " |  __repr__(self)\n",
      " |  \n",
      " |  __rmatmul__(self, other)\n",
      " |  \n",
      " |  __rmul__(self, other)\n",
      " |  \n",
      " |  __rtruediv__(self, other)\n",
      " |  \n",
      " |  __str__(self)\n",
      " |  \n",
      " |  __truediv__(self, other)\n",
      " |  \n",
      " |  asformat(self, format)\n",
      " |      Return this matrix in a given sparse format\n",
      " |      \n",
      " |      Parameters\n",
      " |      ----------\n",
      " |      format : {string, None}\n",
      " |          desired sparse matrix format\n",
      " |              - None for no format conversion\n",
      " |              - \"csr\" for csr_matrix format\n",
      " |              - \"csc\" for csc_matrix format\n",
      " |              - \"lil\" for lil_matrix format\n",
      " |              - \"dok\" for dok_matrix format and so on\n",
      " |  \n",
      " |  asfptype(self)\n",
      " |      Upcast matrix to a floating point format (if necessary)\n",
      " |  \n",
      " |  conjugate(self)\n",
      " |  \n",
      " |  dot(self, other)\n",
      " |      Ordinary dot product\n",
      " |      \n",
      " |      Examples\n",
      " |      --------\n",
      " |      >>> import numpy as np\n",
      " |      >>> from scipy.sparse import csr_matrix\n",
      " |      >>> A = csr_matrix([[1, 2, 0], [0, 0, 3], [4, 0, 5]])\n",
      " |      >>> v = np.array([1, 0, -1])\n",
      " |      >>> A.dot(v)\n",
      " |      array([ 1, -3, -1], dtype=int64)\n",
      " |  \n",
      " |  getH(self)\n",
      " |      # Renamed conjtranspose() -> getH() for compatibility with dense matrices\n",
      " |  \n",
      " |  get_shape(self)\n",
      " |  \n",
      " |  getformat(self)\n",
      " |  \n",
      " |  getmaxprint(self)\n",
      " |  \n",
      " |  mean(self, axis=None)\n",
      " |      Average the matrix over the given axis.  If the axis is None,\n",
      " |      average over both rows and columns, returning a scalar.\n",
      " |  \n",
      " |  nonzero(self)\n",
      " |      nonzero indices\n",
      " |      \n",
      " |      Returns a tuple of arrays (row,col) containing the indices\n",
      " |      of the non-zero elements of the matrix.\n",
      " |      \n",
      " |      Examples\n",
      " |      --------\n",
      " |      >>> from scipy.sparse import csr_matrix\n",
      " |      >>> A = csr_matrix([[1,2,0],[0,0,3],[4,0,5]])\n",
      " |      >>> A.nonzero()\n",
      " |      (array([0, 0, 1, 2, 2]), array([0, 1, 2, 0, 2]))\n",
      " |  \n",
      " |  reshape(self, shape)\n",
      " |  \n",
      " |  set_shape(self, shape)\n",
      " |  \n",
      " |  setdiag(self, values, k=0)\n",
      " |      Set diagonal or off-diagonal elements of the array.\n",
      " |      \n",
      " |      Parameters\n",
      " |      ----------\n",
      " |      values : array_like\n",
      " |          New values of the diagonal elements.\n",
      " |      \n",
      " |          Values may have any length.  If the diagonal is longer than values,\n",
      " |          then the remaining diagonal entries will not be set.  If values if\n",
      " |          longer than the diagonal, then the remaining values are ignored.\n",
      " |      \n",
      " |          If a scalar value is given, all of the diagonal is set to it.\n",
      " |      \n",
      " |      k : int, optional\n",
      " |          Which off-diagonal to set, corresponding to elements a[i,i+k].\n",
      " |          Default: 0 (the main diagonal).\n",
      " |  \n",
      " |  todense(self, order=None, out=None)\n",
      " |      Return a dense matrix representation of this matrix.\n",
      " |      \n",
      " |      Parameters\n",
      " |      ----------\n",
      " |      order : {'C', 'F'}, optional\n",
      " |          Whether to store multi-dimensional data in C (row-major)\n",
      " |          or Fortran (column-major) order in memory. The default\n",
      " |          is 'None', indicating the NumPy default of C-ordered.\n",
      " |          Cannot be specified in conjunction with the `out`\n",
      " |          argument.\n",
      " |      \n",
      " |      out : ndarray, 2-dimensional, optional\n",
      " |          If specified, uses this array (or `numpy.matrix`) as the\n",
      " |          output buffer instead of allocating a new array to\n",
      " |          return. The provided array must have the same shape and\n",
      " |          dtype as the sparse matrix on which you are calling the\n",
      " |          method.\n",
      " |      \n",
      " |      Returns\n",
      " |      -------\n",
      " |      arr : numpy.matrix, 2-dimensional\n",
      " |          A NumPy matrix object with the same shape and containing\n",
      " |          the same data represented by the sparse matrix, with the\n",
      " |          requested memory order. If `out` was passed and was an\n",
      " |          array (rather than a `numpy.matrix`), it will be filled\n",
      " |          with the appropriate values and returned wrapped in a\n",
      " |          `numpy.matrix` object that shares the same memory.\n",
      " |  \n",
      " |  ----------------------------------------------------------------------\n",
      " |  Data descriptors inherited from scipy.sparse.base.spmatrix:\n",
      " |  \n",
      " |  __dict__\n",
      " |      dictionary for instance variables (if defined)\n",
      " |  \n",
      " |  __weakref__\n",
      " |      list of weak references to the object (if defined)\n",
      " |  \n",
      " |  shape\n",
      " |  \n",
      " |  ----------------------------------------------------------------------\n",
      " |  Data and other attributes inherited from scipy.sparse.base.spmatrix:\n",
      " |  \n",
      " |  __array_priority__ = 10.1\n",
      " |  \n",
      " |  ndim = 2\n",
      " |  \n",
      " |  ----------------------------------------------------------------------\n",
      " |  Methods inherited from scipy.sparse.data._minmax_mixin:\n",
      " |  \n",
      " |  max(self, axis=None)\n",
      " |      Maximum of the elements of this matrix.\n",
      " |      \n",
      " |      This takes all elements into account, not just the non-zero ones.\n",
      " |      \n",
      " |      Returns\n",
      " |      -------\n",
      " |      amax : self.dtype\n",
      " |          Maximum element.\n",
      " |  \n",
      " |  min(self, axis=None)\n",
      " |      Minimum of the elements of this matrix.\n",
      " |      \n",
      " |      This takes all elements into account, not just the non-zero ones.\n",
      " |      \n",
      " |      Returns\n",
      " |      -------\n",
      " |      amin : self.dtype\n",
      " |          Minimum element.\n",
      "\n"
     ]
    }
   ],
   "source": []
  },
  {
   "cell_type": "markdown",
   "metadata": {},
   "source": [
    "### Corpus Streaming - One Document at a Time"
   ]
  },
  {
   "cell_type": "code",
   "execution_count": null,
   "metadata": {
    "collapsed": true
   },
   "outputs": [],
   "source": [
    "class MyCorpus(object):\n",
    "    def __iter__(self):\n",
    "        for line in documents:\n",
    "            #Assume there is one document per line, tokens separated by whitespace\n",
    "            yield dictionary.doc2bow(line.lower().split())\n",
    "\n",
    "corpus_memory_friendly = MyCorpus()"
   ]
  },
  {
   "cell_type": "code",
   "execution_count": 25,
   "metadata": {
    "collapsed": false
   },
   "outputs": [
    {
     "name": "stdout",
     "output_type": "stream",
     "text": [
      "Wall time: 3min 41s\n",
      "(480000, 38)\n"
     ]
    }
   ],
   "source": [
    "from sklearn.feature_extraction.text import TfidfVectorizer\n",
    "\n",
    "#define vectorizer parameters\n",
    "tfidf_vectorizer = TfidfVectorizer(max_df=0.7, max_features=2000,\n",
    "                                 min_df=0.02, stop_words='english',\n",
    "                                 use_idf=True, tokenizer=tokenize_and_stem, ngram_range=(1,2))\n",
    "#try 1000 documents\n",
    "%time tfidf_matrix = tfidf_vectorizer.fit_transform(documents) #fit the vectorizer to corpus\n",
    "\n",
    "print(tfidf_matrix.shape)"
   ]
  },
  {
   "cell_type": "code",
   "execution_count": 26,
   "metadata": {
    "collapsed": false
   },
   "outputs": [
    {
     "name": "stdout",
     "output_type": "stream",
     "text": [
      "[u'ad', u'ad loan', u'ad pay', u'borrow', u'borrow ad', u'br', u'br borrow', u'br br', u'br/', u'card', u'card debt', u'consolid', u'consolid credit', u'credit', u'credit card', u'current', u'debt', u'help', u'high', u'home', u'job', u'like', u'loan', u'lower', u'make', u'money', u'month', u'need', u'pay', u'pay credit', u'payment', u'rate', u'thank', u'time', u'use', u'want', u'work', u'year']\n"
     ]
    }
   ],
   "source": [
    "terms = tfidf_vectorizer.get_feature_names()\n",
    "print(terms[0:max(tfidf_matrix.shape[1],50)])"
   ]
  },
  {
   "cell_type": "markdown",
   "metadata": {},
   "source": [
    "<b> It is a chanllenge to compute cosine_similarity in memory due to its size, PySpark will help here! </b>"
   ]
  },
  {
   "cell_type": "code",
   "execution_count": 20,
   "metadata": {
    "collapsed": false
   },
   "outputs": [],
   "source": [
    "#from sklearn.metrics.pairwise import pairwise_kernels  # significantly slower than cosine_similarity\n",
    "#%time dist = 1 - pairwise_kernels(tfidf_matrix,metric='cosine',n_jobs=8)"
   ]
  },
  {
   "cell_type": "code",
   "execution_count": 21,
   "metadata": {
    "collapsed": false
   },
   "outputs": [],
   "source": [
    "#from sklearn.metrics.pairwise import cosine_similarity\n",
    "#%time dist = 1 - cosine_similarity(tfidf_matrix)\n",
    "#print(dist.shape)"
   ]
  },
  {
   "cell_type": "code",
   "execution_count": 22,
   "metadata": {
    "collapsed": false
   },
   "outputs": [
    {
     "ename": "MemoryError",
     "evalue": "",
     "output_type": "error",
     "traceback": [
      "\u001b[1;31m---------------------------------------------------------------------------\u001b[0m",
      "\u001b[1;31mMemoryError\u001b[0m                               Traceback (most recent call last)",
      "\u001b[1;32m<ipython-input-22-f5b833df8561>\u001b[0m in \u001b[0;36m<module>\u001b[1;34m()\u001b[0m\n\u001b[0;32m      1\u001b[0m \u001b[1;31m# if memory error, loop to compute cosine_similarity\u001b[0m\u001b[1;33m\u001b[0m\u001b[1;33m\u001b[0m\u001b[0m\n\u001b[0;32m      2\u001b[0m \u001b[1;32mfrom\u001b[0m \u001b[0mscipy\u001b[0m\u001b[1;33m.\u001b[0m\u001b[0mspatial\u001b[0m\u001b[1;33m.\u001b[0m\u001b[0mdistance\u001b[0m \u001b[1;32mimport\u001b[0m \u001b[0mcosine\u001b[0m\u001b[1;33m\u001b[0m\u001b[0m\n\u001b[1;32m----> 3\u001b[1;33m \u001b[0mdist\u001b[0m \u001b[1;33m=\u001b[0m \u001b[0mnp\u001b[0m\u001b[1;33m.\u001b[0m\u001b[0mempty\u001b[0m\u001b[1;33m(\u001b[0m\u001b[1;33m[\u001b[0m\u001b[0mtfidf_matrix\u001b[0m\u001b[1;33m.\u001b[0m\u001b[0mshape\u001b[0m\u001b[1;33m[\u001b[0m\u001b[1;36m0\u001b[0m\u001b[1;33m]\u001b[0m\u001b[1;33m,\u001b[0m\u001b[0mtfidf_matrix\u001b[0m\u001b[1;33m.\u001b[0m\u001b[0mshape\u001b[0m\u001b[1;33m[\u001b[0m\u001b[1;36m0\u001b[0m\u001b[1;33m]\u001b[0m\u001b[1;33m]\u001b[0m\u001b[1;33m)\u001b[0m  \u001b[1;31m#symetric matrix\u001b[0m\u001b[1;33m\u001b[0m\u001b[0m\n\u001b[0m\u001b[0;32m      4\u001b[0m \u001b[1;32mfor\u001b[0m \u001b[0mn\u001b[0m \u001b[1;32min\u001b[0m \u001b[0mrange\u001b[0m\u001b[1;33m(\u001b[0m\u001b[0mtfidf_matrix\u001b[0m\u001b[1;33m.\u001b[0m\u001b[0mshape\u001b[0m\u001b[1;33m[\u001b[0m\u001b[1;36m0\u001b[0m\u001b[1;33m]\u001b[0m\u001b[1;33m)\u001b[0m\u001b[1;33m:\u001b[0m\u001b[1;33m\u001b[0m\u001b[0m\n\u001b[0;32m      5\u001b[0m     \u001b[1;32mfor\u001b[0m \u001b[0mm\u001b[0m \u001b[1;32min\u001b[0m \u001b[0mrange\u001b[0m\u001b[1;33m(\u001b[0m\u001b[0mn\u001b[0m\u001b[1;33m,\u001b[0m\u001b[0mtfidf_matrix\u001b[0m\u001b[1;33m.\u001b[0m\u001b[0mshape\u001b[0m\u001b[1;33m[\u001b[0m\u001b[1;36m0\u001b[0m\u001b[1;33m]\u001b[0m\u001b[1;33m)\u001b[0m\u001b[1;33m:\u001b[0m\u001b[1;33m\u001b[0m\u001b[0m\n",
      "\u001b[1;31mMemoryError\u001b[0m: "
     ]
    }
   ],
   "source": [
    "# if memory error, loop to compute cosine_similarity\n",
    "from scipy.spatial.distance import cosine\n",
    "dist = np.empty([tfidf_matrix.shape[0],tfidf_matrix.shape[0]])  #symetric matrix\n",
    "for n in range(tfidf_matrix.shape[0]):\n",
    "    for m in range(n,tfidf_matrix.shape[0]):\n",
    "        dist[n,m] = cosine(tfidf_matrix[m].todense(),tfidf_matrix[m].todense())\n",
    "#fill the other half\n",
    "print('fill the other half')\n",
    "%time dist = np.maximum(dist,dist.T)"
   ]
  },
  {
   "cell_type": "markdown",
   "metadata": {},
   "source": [
    "### K-means clustering"
   ]
  },
  {
   "cell_type": "code",
   "execution_count": 27,
   "metadata": {
    "collapsed": false
   },
   "outputs": [
    {
     "name": "stdout",
     "output_type": "stream",
     "text": [
      "Wall time: 11min 50s\n"
     ]
    }
   ],
   "source": [
    "from sklearn.cluster import KMeans\n",
    "num_clusters = 20  # 20 different kind of loan reasons should cover almost all \n",
    "km = KMeans(n_clusters = num_clusters)\n",
    "%time km.fit(tfidf_matrix)\n",
    "clusters = km.labels_.tolist()"
   ]
  },
  {
   "cell_type": "code",
   "execution_count": 52,
   "metadata": {
    "collapsed": false
   },
   "outputs": [
    {
     "name": "stdout",
     "output_type": "stream",
     "text": [
      "Top terms per cluster\n",
      "cluster 0 words\n",
      "want\n",
      "use\n",
      "help\n",
      "money\n",
      "work\n",
      "thank\n",
      "current\n",
      "time\n",
      "pay\n",
      "make\n",
      "job\n",
      "month\n",
      "ad\n",
      "credit\n",
      "high\n",
      "debt\n",
      "consolid\n",
      "borrow\n",
      "need\n",
      "like\n",
      "()\n",
      "cluster 1 words\n",
      "debt\n",
      "card debt\n",
      "card\n",
      "credit\n",
      "credit card\n",
      "br\n",
      "borrow\n",
      "ad\n",
      "borrow ad\n",
      "pay\n",
      "loan\n",
      "consolid\n",
      "pay credit\n",
      "payment\n",
      "year\n",
      "high\n",
      "rate\n",
      "ad loan\n",
      "use\n",
      "month\n",
      "()\n",
      "cluster 2 words\n",
      "br\n",
      "ad\n",
      "borrow\n",
      "borrow ad\n",
      "debt\n",
      "want\n",
      "pay\n",
      "help\n",
      "loan\n",
      "use\n",
      "thank\n",
      "credit\n",
      "money\n",
      "work\n",
      "high\n",
      "make\n",
      "payment\n",
      "time\n",
      "month\n",
      "current\n",
      "()\n",
      "cluster 3 words\n",
      "rate\n",
      "credit\n",
      "card\n",
      "br\n",
      "lower\n",
      "borrow\n",
      "ad\n",
      "borrow ad\n",
      "credit card\n",
      "pay\n",
      "high\n",
      "loan\n",
      "debt\n",
      "consolid\n",
      "payment\n",
      "want\n",
      "like\n",
      "month\n",
      "year\n",
      "use\n",
      "()\n",
      "cluster 4 words\n",
      "ad pay\n",
      "pay\n",
      "br\n",
      "borrow\n",
      "ad\n",
      "borrow ad\n",
      "credit\n",
      "high\n",
      "card\n",
      "credit card\n",
      "loan\n",
      "debt\n",
      "rate\n",
      "payment\n",
      "month\n",
      "home\n",
      "br/\n",
      "br borrow\n",
      "br br\n",
      "lower\n",
      "()\n",
      "cluster 5 words\n",
      "like\n",
      "br\n",
      "borrow\n",
      "ad\n",
      "borrow ad\n",
      "pay\n",
      "credit\n",
      "card\n",
      "credit card\n",
      "consolid\n",
      "loan\n",
      "debt\n",
      "payment\n",
      "high\n",
      "month\n",
      "rate\n",
      "pay credit\n",
      "thank\n",
      "use\n",
      "money\n",
      "()\n",
      "cluster 6 words\n",
      "consolid\n",
      "br\n",
      "borrow\n",
      "borrow ad\n",
      "ad\n",
      "loan\n",
      "credit\n",
      "want\n",
      "payment\n",
      "high\n",
      "pay\n",
      "use\n",
      "month\n",
      "lower\n",
      "rate\n",
      "help\n",
      "thank\n",
      "card\n",
      "money\n",
      "make\n",
      "()\n",
      "cluster 7 words\n",
      "br\n",
      "br br\n",
      "br borrow\n",
      "borrow\n",
      "ad\n",
      "borrow ad\n",
      "loan\n",
      "pay\n",
      "debt\n",
      "credit\n",
      "consolid\n",
      "card\n",
      "thank\n",
      "credit card\n",
      "payment\n",
      "year\n",
      "help\n",
      "month\n",
      "use\n",
      "want\n",
      "()\n",
      "cluster 8 words\n",
      "pay\n",
      "credit\n",
      "card\n",
      "credit card\n",
      "pay credit\n",
      "br\n",
      "borrow\n",
      "ad\n",
      "borrow ad\n",
      "loan\n",
      "want\n",
      "use\n",
      "high\n",
      "ad loan\n",
      "payment\n",
      "month\n",
      "debt\n",
      "money\n",
      "year\n",
      "rate\n",
      "()\n",
      "cluster 9 words\n",
      "loan\n",
      "pay\n",
      "borrow\n",
      "ad\n",
      "br\n",
      "borrow ad\n",
      "use\n",
      "debt\n",
      "payment\n",
      "month\n",
      "thank\n",
      "credit\n",
      "help\n",
      "consolid\n",
      "current\n",
      "time\n",
      "card\n",
      "rate\n",
      "year\n",
      "high\n",
      "()\n",
      "cluster 10 words\n",
      "need\n",
      "borrow\n",
      "ad\n",
      "borrow ad\n",
      "br\n",
      "loan\n",
      "pay\n",
      "help\n",
      "money\n",
      "br/\n",
      "work\n",
      "thank\n",
      "debt\n",
      "consolid\n",
      "make\n",
      "year\n",
      "credit\n",
      "time\n",
      "payment\n",
      "month\n",
      "()\n",
      "cluster 11 words\n",
      "payment\n",
      "month\n",
      "br\n",
      "borrow\n",
      "ad\n",
      "borrow ad\n",
      "loan\n",
      "debt\n",
      "pay\n",
      "make\n",
      "credit\n",
      "consolid\n",
      "card\n",
      "credit card\n",
      "lower\n",
      "time\n",
      "want\n",
      "current\n",
      "rate\n",
      "thank\n",
      "()\n",
      "cluster 12 words\n",
      "br/\n",
      "ad\n",
      "borrow\n",
      "borrow ad\n",
      "loan\n",
      "pay\n",
      "thank\n",
      "credit\n",
      "use\n",
      "debt\n",
      "year\n",
      "job\n",
      "month\n",
      "payment\n",
      "consolid\n",
      "work\n",
      "card\n",
      "time\n",
      "help\n",
      "credit card\n",
      "()\n",
      "cluster 13 words\n",
      "home\n",
      "br\n",
      "ad\n",
      "borrow\n",
      "borrow ad\n",
      "loan\n",
      "need\n",
      "consolid\n",
      "debt\n",
      "use\n",
      "br/\n",
      "make\n",
      "pay\n",
      "year\n",
      "like\n",
      "ad loan\n",
      "want\n",
      "money\n",
      "thank\n",
      "credit\n",
      "()\n",
      "cluster 14 words\n",
      "consolid credit\n",
      "consolid\n",
      "credit\n",
      "card\n",
      "credit card\n",
      "br\n",
      "borrow\n",
      "ad\n",
      "borrow ad\n",
      "debt\n",
      "card debt\n",
      "loan\n",
      "payment\n",
      "ad loan\n",
      "pay\n",
      "month\n",
      "lower\n",
      "want\n",
      "like\n",
      "rate\n",
      "()\n",
      "cluster 15 words\n",
      "ad loan\n",
      "loan\n",
      "br\n",
      "borrow\n",
      "ad\n",
      "borrow ad\n",
      "consolid\n",
      "debt\n",
      "credit\n",
      "pay\n",
      "use\n",
      "card\n",
      "credit card\n",
      "help\n",
      "high\n",
      "payment\n",
      "rate\n",
      "home\n",
      "month\n",
      "thank\n",
      "()\n",
      "cluster 16 words\n",
      "debt\n",
      "consolid\n",
      "br\n",
      "borrow\n",
      "borrow ad\n",
      "ad\n",
      "loan\n",
      "payment\n",
      "pay\n",
      "lower\n",
      "want\n",
      "month\n",
      "rate\n",
      "year\n",
      "credit\n",
      "br borrow\n",
      "br br\n",
      "like\n",
      "use\n",
      "help\n",
      "()\n",
      "cluster 17 words\n",
      "year\n",
      "borrow\n",
      "work\n",
      "ad\n",
      "pay\n",
      "job\n",
      "borrow ad\n",
      "debt\n",
      "loan\n",
      "time\n",
      "br\n",
      "credit\n",
      "br/\n",
      "use\n",
      "payment\n",
      "help\n",
      "thank\n",
      "current\n",
      "month\n",
      "card\n",
      "()\n",
      "cluster 18 words\n",
      "card\n",
      "credit\n",
      "credit card\n",
      "br\n",
      "borrow\n",
      "borrow ad\n",
      "ad\n",
      "consolid\n",
      "high\n",
      "loan\n",
      "payment\n",
      "pay\n",
      "debt\n",
      "want\n",
      "need\n",
      "use\n",
      "br br\n",
      "br borrow\n",
      "home\n",
      "lower\n",
      "()\n",
      "cluster 19 words\n",
      "ad pay\n",
      "pay credit\n",
      "pay\n",
      "credit\n",
      "card\n",
      "credit card\n",
      "br\n",
      "borrow\n",
      "borrow ad\n",
      "ad\n",
      "card debt\n",
      "debt\n",
      "br borrow\n",
      "br br\n",
      "payment\n",
      "loan\n",
      "rate\n",
      "month\n",
      "home\n",
      "high\n",
      "()\n"
     ]
    }
   ],
   "source": [
    "print(\"Top terms per cluster\")\n",
    "order_centroids = km.cluster_centers_.argsort()[:,::-1]  # sort cluster centers by proximity to centroid\n",
    "\n",
    "for i in range(num_clusters):\n",
    "    #print(\"Cluster %d words: \" % i,end=' ')\n",
    "    print(\"cluster %d words\" % i)\n",
    "    for ind in order_centroids[i,:20]:\n",
    "        #print(\"%s\" % terms[ind], end=' ')\n",
    "        print(''.join(terms[ind]))\n",
    "    print()    "
   ]
  },
  {
   "cell_type": "code",
   "execution_count": 47,
   "metadata": {
    "collapsed": false
   },
   "outputs": [],
   "source": [
    "all_data['X16'] = clusters   #assign cluster group code to number of loan reasons"
   ]
  },
  {
   "cell_type": "code",
   "execution_count": 56,
   "metadata": {
    "collapsed": false
   },
   "outputs": [
    {
     "name": "stdout",
     "output_type": "stream",
     "text": [
      "set([0, 1, 2, 3, 4, 5, 6, 7, 8, 9, 10, 11, 12, 13, 14, 15, 16, 17, 18, 19])\n"
     ]
    }
   ],
   "source": [
    "print(set(all_data['X16']))"
   ]
  },
  {
   "cell_type": "markdown",
   "metadata": {},
   "source": [
    "### Change data type to categorical \n",
    "``` categorical_cols = ['X8','X9','X10','X12','X14','X17','X20','X32'] #possibly 'X13','X16'\n",
    "```"
   ]
  },
  {
   "cell_type": "code",
   "execution_count": 23,
   "metadata": {
    "collapsed": true
   },
   "outputs": [],
   "source": [
    "categorical_cols = ['X8','X9','X10','X12','X14','X17','X18','X20','X32','X16'] \n",
    "for col in categorical_cols:\n",
    "    all_data[col] = all_data[col].astype('category')"
   ]
  },
  {
   "cell_type": "code",
   "execution_count": 24,
   "metadata": {
    "collapsed": true
   },
   "outputs": [],
   "source": [
    "#assign data back to train and test\n",
    "train_processed = all_data.iloc[0:train.shape[0]]\n",
    "test_processed = all_data.iloc[train.shape[0]:]"
   ]
  },
  {
   "cell_type": "markdown",
   "metadata": {},
   "source": [
    "## Check how many missing data in the training and test data\n",
    "\n"
   ]
  },
  {
   "cell_type": "code",
   "execution_count": 25,
   "metadata": {
    "collapsed": false
   },
   "outputs": [
    {
     "name": "stdout",
     "output_type": "stream",
     "text": [
      "The top Six data is in column (percentage) \n",
      "('X26', 'Number of months since the last public record.', 0.87211249999999996)\n",
      "('X25', \"Number of months since the borrower's last delinquency.\", 0.54700499999999996)\n",
      "('X13', 'Annual income of borrower', 0.15257000000000001)\n",
      "('X1', 'Interest Rate on the loan', 0.15252499999999999)\n",
      "('X11', 'Number of years employed (0 to 10; 10 = 10 or more)', 0.043845000000000002)\n",
      "('X30', 'Revolving line utilization rate, or the amount of credit the borrower is using relative to all available revolving credit.', 0.00066750000000000002)\n"
     ]
    }
   ],
   "source": [
    "#percentage of data missing\n",
    "missing_pct_train = train_processed.isnull().sum()/train_processed.shape[0]\n",
    "missing_pct_train.sort_values(ascending=False,inplace=True)\n",
    "\n",
    "print(\"The top Six data is in column (percentage) \" )\n",
    "for n in range(6):\n",
    "    print(missing_pct_train.keys()[n],metadata[missing_pct_train.keys()[n]],missing_pct_train.values[n])"
   ]
  },
  {
   "cell_type": "markdown",
   "metadata": {},
   "source": [
    "### process missing data in training dataset\n",
    "1. remove record where no interest rate on the loan , about 15% record\n",
    "2. remove record (row) where columns (X2,X3 etc)  less than 0.1%\n",
    "3. Special treatment for X26(num months since last deliquency),X25(num inquiries),X13(annual income),X11 (number year employed)"
   ]
  },
  {
   "cell_type": "code",
   "execution_count": 26,
   "metadata": {
    "collapsed": false
   },
   "outputs": [
    {
     "name": "stdout",
     "output_type": "stream",
     "text": [
      "step 1: 338990 rows\n",
      "step 2: 338765 rows\n"
     ]
    }
   ],
   "source": [
    "# remove record with no interest rate in the training data set\n",
    "train_processed_s1 = train_processed[~np.isnan(train_processed['X1'])]\n",
    "print('step 1: %d rows' %train_processed_s1.shape[0])\n",
    "missing_threshold = 0.001\n",
    "# remove record (row) where columns (X2,X3 etc) less than threshold\n",
    "for n in range(len(missing_pct_train)):\n",
    "    if(missing_pct_train.get_value(n) <= missing_threshold ):\n",
    "        key = missing_pct_train.keys()[n]\n",
    "        train_processed_s1.dropna(subset=[key],inplace=True)\n",
    "print('step 2: %d rows' %train_processed_s1.shape[0])\n"
   ]
  },
  {
   "cell_type": "code",
   "execution_count": 27,
   "metadata": {
    "collapsed": false
   },
   "outputs": [],
   "source": [
    "# process X26, X25\n",
    "# X26: num of months since last deliquency, assume NaN is zero if no record\n",
    "train_processed_s1['X26'].fillna(0,inplace=True)\n",
    "# X25: num inquiries, assume NaN is zero if no record\n",
    "train_processed_s1['X25'].fillna(0,inplace=True)"
   ]
  },
  {
   "cell_type": "code",
   "execution_count": 28,
   "metadata": {
    "collapsed": false
   },
   "outputs": [
    {
     "data": {
      "image/png": "[encoded data removed]",
      "text/plain": [
       "<matplotlib.figure.Figure at 0x2b618f28>"
      ]
     },
     "metadata": {},
     "output_type": "display_data"
    }
   ],
   "source": [
    "# X11: number of year employed (less than 5%), drop it for now\n",
    "plt.hist(train_processed_s1['X11'],10,range=[0,10])\n",
    "plt.title('Number of year employed distriubtion')\n",
    "train_processed_s1.dropna(inplace=True)"
   ]
  },
  {
   "cell_type": "code",
   "execution_count": 29,
   "metadata": {
    "collapsed": false
   },
   "outputs": [
    {
     "data": {
      "image/png": "[encoded data removed]",
      "text/plain": [
       "<matplotlib.figure.Figure at 0x2682048>"
      ]
     },
     "metadata": {},
     "output_type": "display_data"
    }
   ],
   "source": [
    "\n",
    "# X13: Annual Income of borrower (15%), it would be great if there is another model to predict people's income\n",
    "plt.hist(train_processed_s1['X13'][~np.isnan(train_processed_s1['X13'])],100,range = [1000,250000])\n",
    "plt.title('Income distribution')\n",
    "#try fill na with median value\n",
    "train_processed_s1_medianX13 = train_processed_s1.copy(deep=True)\n",
    "train_processed_s1_medianX13['X13'] = train_processed_s1['X13'].fillna(train_processed_s1['X13'].median())\n",
    "#option two, drop it all\n",
    "train_processed_s1_dropX13 = train_processed_s1.copy(deep=True)\n",
    "train_processed_s1_dropX13['X13'].dropna(inplace=True)\n"
   ]
  },
  {
   "cell_type": "code",
   "execution_count": 30,
   "metadata": {
    "collapsed": false
   },
   "outputs": [],
   "source": [
    "assert train_processed_s1_dropX13.isnull().sum().sum()==0,\"there are still missing value in the training data set\"\n",
    "assert train_processed_s1_medianX13.isnull().sum().sum()==0,\"there are still missing value in the training data set\""
   ]
  },
  {
   "cell_type": "markdown",
   "metadata": {},
   "source": [
    "### process missing data in test dataset"
   ]
  },
  {
   "cell_type": "code",
   "execution_count": 31,
   "metadata": {
    "collapsed": false
   },
   "outputs": [],
   "source": [
    "#test_processed = all_data.iloc[train.shape[0]:]"
   ]
  },
  {
   "cell_type": "code",
   "execution_count": 32,
   "metadata": {
    "collapsed": false
   },
   "outputs": [
    {
     "name": "stdout",
     "output_type": "stream",
     "text": [
      "The missing data percentage (total 7) is in column (percentage) \n",
      "('X1', 'Interest Rate on the loan', 1.0)\n",
      "('X15', 'Date loan was issued', 1.0)\n",
      "('X26', 'Number of months since the last public record.', 0.82701250000000004)\n",
      "('X25', \"Number of months since the borrower's last delinquency.\", 0.48380000000000001)\n",
      "('X23', \"Date the borrower's earliest reported credit line was opened\", 0.42521249999999999)\n",
      "('X11', 'Number of years employed (0 to 10; 10 = 10 or more)', 0.054774999999999997)\n",
      "('X30', 'Revolving line utilization rate, or the amount of credit the borrower is using relative to all available revolving credit.', 0.00037500000000000001)\n"
     ]
    }
   ],
   "source": [
    "missing_test_pct = test_processed.isnull().sum()/test.shape[0]\n",
    "missing_test_pct.sort_values(ascending=False,inplace=True)\n",
    "\n",
    "print(\"The missing data percentage (total 7) is in column (percentage) \" )\n",
    "for n in range(7):\n",
    "    print(missing_test_pct.keys()[n],metadata[missing_test_pct.keys()[n]],missing_test_pct.values[n])"
   ]
  },
  {
   "cell_type": "markdown",
   "metadata": {},
   "source": [
    "### columns with missing test data\n",
    "``` missing_test_cols = ['X26','X25','X23','X11','X15']```\n",
    "\n"
   ]
  },
  {
   "cell_type": "code",
   "execution_count": 33,
   "metadata": {
    "collapsed": false
   },
   "outputs": [],
   "source": [
    "# remove record (row) where columns (X30 etc) less than threshold,doesn't apply for test dataset due to score purpose\n",
    "#for n in range(len(missing_test_pct)):\n",
    "#    if(missing_test_pct.get_value(n) <= missing_threshold ):\n",
    "#        key = missing_test_pct.keys()[n]\n",
    "#        test_processed.dropna(subset=[key],inplace=True)\n",
    "#print('step 1: %d rows' %test_processed.shape[0])\n",
    "test_processed['X11'].fillna(0,inplace=True)\n",
    "test_processed['X30'].fillna(0,inplace=True)  # assume 0 if no line utilization"
   ]
  },
  {
   "cell_type": "code",
   "execution_count": 34,
   "metadata": {
    "collapsed": false
   },
   "outputs": [],
   "source": [
    "# drop column X15 since it 100% missing, for consistence with training data set, just keep it with 0 filled\n",
    "#test_processed.drop('X15',axis=1,inplace=True)\n",
    "test_processed['X15'].fillna(0,inplace=True)  # 'X15' won't be used in model\n",
    "# process X26, X25, X13,X11\n",
    "# X26: num of months since last deliquency, assume NaN is zero if no record\n",
    "test_processed['X26'].fillna(0,inplace=True)\n",
    "# X25: num inquiries, assume NaN is zero if no record\n",
    "test_processed['X25'].fillna(0,inplace=True)\n",
    "# X11 drop it\n",
    "#test_processed.dropna(inplace=True)\n",
    "# X13 \n",
    "#try fill na with median value\n",
    "test_processed_medianX13 = test_processed.copy(deep=True)\n",
    "test_processed_medianX13['X13'] = test_processed_medianX13['X13'].fillna(test_processed['X13'].median())\n",
    "#option two, drop it all\n",
    "#test_prpcessed_dropX13 = test_processed.copy(deep=True)\n",
    "#test_prpcessed_dropX13['X13'].dropna(inplace=True)"
   ]
  },
  {
   "cell_type": "code",
   "execution_count": 35,
   "metadata": {
    "collapsed": false
   },
   "outputs": [
    {
     "data": {
      "text/plain": [
       "(80000, 32)"
      ]
     },
     "execution_count": 35,
     "metadata": {},
     "output_type": "execute_result"
    }
   ],
   "source": [
    "test_processed.shape"
   ]
  },
  {
   "cell_type": "code",
   "execution_count": 36,
   "metadata": {
    "collapsed": false
   },
   "outputs": [
    {
     "data": {
      "text/plain": [
       "<matplotlib.text.Text at 0x16f13a20>"
      ]
     },
     "execution_count": 36,
     "metadata": {},
     "output_type": "execute_result"
    },
    {
     "data": {
      "image/png": "[encoded data removed]",
      "text/plain": [
       "<matplotlib.figure.Figure at 0x12579e48>"
      ]
     },
     "metadata": {},
     "output_type": "display_data"
    }
   ],
   "source": [
    "# check interest rate \n",
    "plt.hist(train_processed_s1['X1'],bins = 20)\n",
    "plt.title('Intrest rate distribution')"
   ]
  },
  {
   "cell_type": "markdown",
   "metadata": {},
   "source": [
    "# Merge processed train and test data for label encoding"
   ]
  },
  {
   "cell_type": "code",
   "execution_count": 37,
   "metadata": {
    "collapsed": false
   },
   "outputs": [],
   "source": [
    "#use the dropped training dataset\n",
    "all_data_clean_median = train_processed_s1_dropX13.append(test_processed_medianX13)"
   ]
  },
  {
   "cell_type": "code",
   "execution_count": 38,
   "metadata": {
    "collapsed": false
   },
   "outputs": [],
   "source": [
    "categorical_cols_2 = ['X8','X9','X10','X12','X14','X17','X18','X20','X32']"
   ]
  },
  {
   "cell_type": "code",
   "execution_count": 39,
   "metadata": {
    "collapsed": false
   },
   "outputs": [],
   "source": [
    "# apply label encoding for category dataset\n",
    "from sklearn import preprocessing\n",
    "le  = preprocessing.LabelEncoder()\n",
    "for col in categorical_cols_2:\n",
    "    all_data_clean_median[col] = le.fit_transform(all_data_clean_median[col])\n",
    "        "
   ]
  },
  {
   "cell_type": "code",
   "execution_count": 40,
   "metadata": {
    "collapsed": true
   },
   "outputs": [],
   "source": [
    "train_use = all_data_clean_median.iloc[0:train_processed_s1_dropX13.shape[0]]\n",
    "test_use = all_data_clean_median.iloc[train_processed_s1_dropX13.shape[0]::]"
   ]
  },
  {
   "cell_type": "code",
   "execution_count": 41,
   "metadata": {
    "collapsed": false
   },
   "outputs": [
    {
     "data": {
      "text/plain": [
       "(80000, 32)"
      ]
     },
     "execution_count": 41,
     "metadata": {},
     "output_type": "execute_result"
    }
   ],
   "source": [
    "test_use.shape\n"
   ]
  },
  {
   "cell_type": "code",
   "execution_count": 42,
   "metadata": {
    "collapsed": false
   },
   "outputs": [],
   "source": [
    "# explore colinearilty between features\n",
    "features_exclude = ['X16','X15','X23','X2','X3']\n",
    "#feature_cols = [col for col in train_use.columns if col not in features_exclude]\n",
    "feature_cols = ['X4','X5','X6','X11','X13','X24','X22','X25','X26','X27','X28','X30','X31']\n",
    "corr = np.corrcoef(train_use[feature_cols],rowvar=0)\n",
    "w, v = np.linalg.eig(corr)        # eigen values & eigen vectors\n"
   ]
  },
  {
   "cell_type": "code",
   "execution_count": 43,
   "metadata": {
    "collapsed": false
   },
   "outputs": [
    {
     "data": {
      "text/html": [
       "<div>\n",
       "<table border=\"1\" class=\"dataframe\">\n",
       "  <thead>\n",
       "    <tr style=\"text-align: right;\">\n",
       "      <th></th>\n",
       "      <th>X4</th>\n",
       "      <th>X5</th>\n",
       "      <th>X6</th>\n",
       "      <th>X11</th>\n",
       "      <th>X13</th>\n",
       "      <th>X24</th>\n",
       "      <th>X22</th>\n",
       "      <th>X25</th>\n",
       "      <th>X26</th>\n",
       "      <th>X27</th>\n",
       "      <th>X28</th>\n",
       "      <th>X30</th>\n",
       "      <th>X31</th>\n",
       "    </tr>\n",
       "  </thead>\n",
       "  <tbody>\n",
       "    <tr>\n",
       "      <th>X4</th>\n",
       "      <td>1.000000</td>\n",
       "      <td>0.998242</td>\n",
       "      <td>0.993923</td>\n",
       "      <td>0.122649</td>\n",
       "      <td>0.350427</td>\n",
       "      <td>-0.002003</td>\n",
       "      <td>0.007060</td>\n",
       "      <td>-0.026649</td>\n",
       "      <td>-0.091352</td>\n",
       "      <td>0.198835</td>\n",
       "      <td>-0.070701</td>\n",
       "      <td>0.117450</td>\n",
       "      <td>0.235782</td>\n",
       "    </tr>\n",
       "    <tr>\n",
       "      <th>X5</th>\n",
       "      <td>0.998242</td>\n",
       "      <td>1.000000</td>\n",
       "      <td>0.996040</td>\n",
       "      <td>0.123190</td>\n",
       "      <td>0.349766</td>\n",
       "      <td>-0.002227</td>\n",
       "      <td>0.007699</td>\n",
       "      <td>-0.025952</td>\n",
       "      <td>-0.090819</td>\n",
       "      <td>0.199798</td>\n",
       "      <td>-0.070085</td>\n",
       "      <td>0.118752</td>\n",
       "      <td>0.235669</td>\n",
       "    </tr>\n",
       "    <tr>\n",
       "      <th>X6</th>\n",
       "      <td>0.993923</td>\n",
       "      <td>0.996040</td>\n",
       "      <td>1.000000</td>\n",
       "      <td>0.126012</td>\n",
       "      <td>0.347909</td>\n",
       "      <td>-0.003975</td>\n",
       "      <td>0.008655</td>\n",
       "      <td>-0.025036</td>\n",
       "      <td>-0.089271</td>\n",
       "      <td>0.200939</td>\n",
       "      <td>-0.068433</td>\n",
       "      <td>0.121285</td>\n",
       "      <td>0.236241</td>\n",
       "    </tr>\n",
       "    <tr>\n",
       "      <th>X11</th>\n",
       "      <td>0.122649</td>\n",
       "      <td>0.123190</td>\n",
       "      <td>0.126012</td>\n",
       "      <td>1.000000</td>\n",
       "      <td>0.071581</td>\n",
       "      <td>-0.007878</td>\n",
       "      <td>0.032481</td>\n",
       "      <td>0.035731</td>\n",
       "      <td>0.052224</td>\n",
       "      <td>0.045154</td>\n",
       "      <td>0.039499</td>\n",
       "      <td>0.046588</td>\n",
       "      <td>0.117558</td>\n",
       "    </tr>\n",
       "    <tr>\n",
       "      <th>X13</th>\n",
       "      <td>0.350427</td>\n",
       "      <td>0.349766</td>\n",
       "      <td>0.347909</td>\n",
       "      <td>0.071581</td>\n",
       "      <td>1.000000</td>\n",
       "      <td>0.064222</td>\n",
       "      <td>0.059219</td>\n",
       "      <td>0.020011</td>\n",
       "      <td>-0.042332</td>\n",
       "      <td>0.149543</td>\n",
       "      <td>-0.007936</td>\n",
       "      <td>0.031573</td>\n",
       "      <td>0.220052</td>\n",
       "    </tr>\n",
       "    <tr>\n",
       "      <th>X24</th>\n",
       "      <td>-0.002003</td>\n",
       "      <td>-0.002227</td>\n",
       "      <td>-0.003975</td>\n",
       "      <td>-0.007878</td>\n",
       "      <td>0.064222</td>\n",
       "      <td>1.000000</td>\n",
       "      <td>0.024647</td>\n",
       "      <td>0.034436</td>\n",
       "      <td>0.030407</td>\n",
       "      <td>0.099910</td>\n",
       "      <td>0.037840</td>\n",
       "      <td>-0.096677</td>\n",
       "      <td>0.133277</td>\n",
       "    </tr>\n",
       "    <tr>\n",
       "      <th>X22</th>\n",
       "      <td>0.007060</td>\n",
       "      <td>0.007699</td>\n",
       "      <td>0.008655</td>\n",
       "      <td>0.032481</td>\n",
       "      <td>0.059219</td>\n",
       "      <td>0.024647</td>\n",
       "      <td>1.000000</td>\n",
       "      <td>-0.054897</td>\n",
       "      <td>-0.024427</td>\n",
       "      <td>0.059226</td>\n",
       "      <td>-0.007483</td>\n",
       "      <td>-0.011034</td>\n",
       "      <td>0.130531</td>\n",
       "    </tr>\n",
       "    <tr>\n",
       "      <th>X25</th>\n",
       "      <td>-0.026649</td>\n",
       "      <td>-0.025952</td>\n",
       "      <td>-0.025036</td>\n",
       "      <td>0.035731</td>\n",
       "      <td>0.020011</td>\n",
       "      <td>0.034436</td>\n",
       "      <td>-0.054897</td>\n",
       "      <td>1.000000</td>\n",
       "      <td>0.031526</td>\n",
       "      <td>0.026760</td>\n",
       "      <td>0.060610</td>\n",
       "      <td>0.007775</td>\n",
       "      <td>0.115495</td>\n",
       "    </tr>\n",
       "    <tr>\n",
       "      <th>X26</th>\n",
       "      <td>-0.091352</td>\n",
       "      <td>-0.090819</td>\n",
       "      <td>-0.089271</td>\n",
       "      <td>0.052224</td>\n",
       "      <td>-0.042332</td>\n",
       "      <td>0.030407</td>\n",
       "      <td>-0.024427</td>\n",
       "      <td>0.031526</td>\n",
       "      <td>1.000000</td>\n",
       "      <td>-0.033570</td>\n",
       "      <td>0.670360</td>\n",
       "      <td>-0.042946</td>\n",
       "      <td>-0.024885</td>\n",
       "    </tr>\n",
       "    <tr>\n",
       "      <th>X27</th>\n",
       "      <td>0.198835</td>\n",
       "      <td>0.199798</td>\n",
       "      <td>0.200939</td>\n",
       "      <td>0.045154</td>\n",
       "      <td>0.149543</td>\n",
       "      <td>0.099910</td>\n",
       "      <td>0.059226</td>\n",
       "      <td>0.026760</td>\n",
       "      <td>-0.033570</td>\n",
       "      <td>1.000000</td>\n",
       "      <td>-0.025467</td>\n",
       "      <td>-0.116872</td>\n",
       "      <td>0.678517</td>\n",
       "    </tr>\n",
       "    <tr>\n",
       "      <th>X28</th>\n",
       "      <td>-0.070701</td>\n",
       "      <td>-0.070085</td>\n",
       "      <td>-0.068433</td>\n",
       "      <td>0.039499</td>\n",
       "      <td>-0.007936</td>\n",
       "      <td>0.037840</td>\n",
       "      <td>-0.007483</td>\n",
       "      <td>0.060610</td>\n",
       "      <td>0.670360</td>\n",
       "      <td>-0.025467</td>\n",
       "      <td>1.000000</td>\n",
       "      <td>-0.052891</td>\n",
       "      <td>0.006703</td>\n",
       "    </tr>\n",
       "    <tr>\n",
       "      <th>X30</th>\n",
       "      <td>0.117450</td>\n",
       "      <td>0.118752</td>\n",
       "      <td>0.121285</td>\n",
       "      <td>0.046588</td>\n",
       "      <td>0.031573</td>\n",
       "      <td>-0.096677</td>\n",
       "      <td>-0.011034</td>\n",
       "      <td>0.007775</td>\n",
       "      <td>-0.042946</td>\n",
       "      <td>-0.116872</td>\n",
       "      <td>-0.052891</td>\n",
       "      <td>1.000000</td>\n",
       "      <td>-0.086684</td>\n",
       "    </tr>\n",
       "    <tr>\n",
       "      <th>X31</th>\n",
       "      <td>0.235782</td>\n",
       "      <td>0.235669</td>\n",
       "      <td>0.236241</td>\n",
       "      <td>0.117558</td>\n",
       "      <td>0.220052</td>\n",
       "      <td>0.133277</td>\n",
       "      <td>0.130531</td>\n",
       "      <td>0.115495</td>\n",
       "      <td>-0.024885</td>\n",
       "      <td>0.678517</td>\n",
       "      <td>0.006703</td>\n",
       "      <td>-0.086684</td>\n",
       "      <td>1.000000</td>\n",
       "    </tr>\n",
       "  </tbody>\n",
       "</table>\n",
       "</div>"
      ],
      "text/plain": [
       "           X4        X5        X6       X11       X13       X24       X22  \\\n",
       "X4   1.000000  0.998242  0.993923  0.122649  0.350427 -0.002003  0.007060   \n",
       "X5   0.998242  1.000000  0.996040  0.123190  0.349766 -0.002227  0.007699   \n",
       "X6   0.993923  0.996040  1.000000  0.126012  0.347909 -0.003975  0.008655   \n",
       "X11  0.122649  0.123190  0.126012  1.000000  0.071581 -0.007878  0.032481   \n",
       "X13  0.350427  0.349766  0.347909  0.071581  1.000000  0.064222  0.059219   \n",
       "X24 -0.002003 -0.002227 -0.003975 -0.007878  0.064222  1.000000  0.024647   \n",
       "X22  0.007060  0.007699  0.008655  0.032481  0.059219  0.024647  1.000000   \n",
       "X25 -0.026649 -0.025952 -0.025036  0.035731  0.020011  0.034436 -0.054897   \n",
       "X26 -0.091352 -0.090819 -0.089271  0.052224 -0.042332  0.030407 -0.024427   \n",
       "X27  0.198835  0.199798  0.200939  0.045154  0.149543  0.099910  0.059226   \n",
       "X28 -0.070701 -0.070085 -0.068433  0.039499 -0.007936  0.037840 -0.007483   \n",
       "X30  0.117450  0.118752  0.121285  0.046588  0.031573 -0.096677 -0.011034   \n",
       "X31  0.235782  0.235669  0.236241  0.117558  0.220052  0.133277  0.130531   \n",
       "\n",
       "          X25       X26       X27       X28       X30       X31  \n",
       "X4  -0.026649 -0.091352  0.198835 -0.070701  0.117450  0.235782  \n",
       "X5  -0.025952 -0.090819  0.199798 -0.070085  0.118752  0.235669  \n",
       "X6  -0.025036 -0.089271  0.200939 -0.068433  0.121285  0.236241  \n",
       "X11  0.035731  0.052224  0.045154  0.039499  0.046588  0.117558  \n",
       "X13  0.020011 -0.042332  0.149543 -0.007936  0.031573  0.220052  \n",
       "X24  0.034436  0.030407  0.099910  0.037840 -0.096677  0.133277  \n",
       "X22 -0.054897 -0.024427  0.059226 -0.007483 -0.011034  0.130531  \n",
       "X25  1.000000  0.031526  0.026760  0.060610  0.007775  0.115495  \n",
       "X26  0.031526  1.000000 -0.033570  0.670360 -0.042946 -0.024885  \n",
       "X27  0.026760 -0.033570  1.000000 -0.025467 -0.116872  0.678517  \n",
       "X28  0.060610  0.670360 -0.025467  1.000000 -0.052891  0.006703  \n",
       "X30  0.007775 -0.042946 -0.116872 -0.052891  1.000000 -0.086684  \n",
       "X31  0.115495 -0.024885  0.678517  0.006703 -0.086684  1.000000  "
      ]
     },
     "execution_count": 43,
     "metadata": {},
     "output_type": "execute_result"
    }
   ],
   "source": [
    "#check colinearity\n",
    "pd.DataFrame(corr,index=feature_cols,columns=feature_cols)"
   ]
  },
  {
   "cell_type": "markdown",
   "metadata": {},
   "source": [
    "Based on the colinearity of the numerical features, there are strong colinearity between X4,X5,X6; and X26,X28; X27,X31"
   ]
  },
  {
   "cell_type": "markdown",
   "metadata": {
    "collapsed": true
   },
   "source": [
    "# Build Model 1: Linear Regression - only use numerical features"
   ]
  },
  {
   "cell_type": "code",
   "execution_count": 44,
   "metadata": {
    "collapsed": false
   },
   "outputs": [],
   "source": [
    "from sklearn.linear_model import Ridge\n",
    "from sklearn.cross_validation import train_test_split\n",
    "from sklearn.metrics import r2_score, mean_squared_error\n",
    "train_split, crossVal = train_test_split(train_use, test_size = 0.2, random_state = 100)"
   ]
  },
  {
   "cell_type": "code",
   "execution_count": 45,
   "metadata": {
    "collapsed": false
   },
   "outputs": [
    {
     "name": "stdout",
     "output_type": "stream",
     "text": [
      "The R2 for train model is: 0.253588\n",
      "The R2 score for validation model is 0.254896\n",
      "The RMSE for validation model is 3.782509\n"
     ]
    }
   ],
   "source": [
    "feature_cols = ['X4','X5','X6','X11','X13','X24','X21','X22','X25','X26','X27','X28','X30','X31'] #numerical feature first\n",
    "x = train_use[feature_cols]\n",
    "y = train_use['X1']\n",
    "clf = Ridge(alpha = 1.0)\n",
    "clf.fit(x,y)\n",
    "# predict validation\n",
    "x_val = crossVal[feature_cols]\n",
    "y_pred = clf.predict(x_val)\n",
    "print(\"The R2 for train model is: %f\"%clf.score(x,y))\n",
    "print(\"The R2 score for validation model is %f\" %r2_score(crossVal['X1'],y_pred))\n",
    "print(\"The RMSE for validation model is %f\" %mean_squared_error(crossVal['X1'],y_pred)**(1/2.0))"
   ]
  },
  {
   "cell_type": "markdown",
   "metadata": {
    "collapsed": false
   },
   "source": [
    "## Model 1.1- remove colinearilty features"
   ]
  },
  {
   "cell_type": "code",
   "execution_count": 47,
   "metadata": {
    "collapsed": false
   },
   "outputs": [
    {
     "name": "stdout",
     "output_type": "stream",
     "text": [
      "The R2 for train model is: 0.238472\n",
      "The R2 score for validation model is 0.242129\n",
      "The RMSE for validation model is 3.814778\n"
     ]
    }
   ],
   "source": [
    "feature_cols = ['X4','X11','X13','X24','X22','X21','X25','X26','X27','X30']  # remove X5,X6,X31\n",
    "x = train_use[feature_cols]\n",
    "y = train_use['X1']\n",
    "clf = Ridge(alpha = 1.0)\n",
    "clf.fit(x,y)\n",
    "# predict validation\n",
    "x_val = crossVal[feature_cols]\n",
    "y_pred = clf.predict(x_val)\n",
    "print(\"The R2 for train model is: %f\"%clf.score(x,y))\n",
    "print(\"The R2 score for validation model is %f\" %r2_score(crossVal['X1'],y_pred))\n",
    "print(\"The RMSE for validation model is %f\" %mean_squared_error(crossVal['X1'],y_pred)**(1/2.0))"
   ]
  },
  {
   "cell_type": "code",
   "execution_count": 48,
   "metadata": {
    "collapsed": false
   },
   "outputs": [
    {
     "data": {
      "text/html": [
       "<div>\n",
       "<table border=\"1\" class=\"dataframe\">\n",
       "  <thead>\n",
       "    <tr style=\"text-align: right;\">\n",
       "      <th></th>\n",
       "      <th>0</th>\n",
       "      <th>1</th>\n",
       "      <th>2</th>\n",
       "      <th>3</th>\n",
       "      <th>4</th>\n",
       "      <th>5</th>\n",
       "      <th>6</th>\n",
       "      <th>7</th>\n",
       "      <th>8</th>\n",
       "      <th>9</th>\n",
       "      <th>...</th>\n",
       "      <th>54886</th>\n",
       "      <th>54887</th>\n",
       "      <th>54888</th>\n",
       "      <th>54889</th>\n",
       "      <th>54890</th>\n",
       "      <th>54891</th>\n",
       "      <th>54892</th>\n",
       "      <th>54893</th>\n",
       "      <th>54894</th>\n",
       "      <th>54895</th>\n",
       "    </tr>\n",
       "  </thead>\n",
       "  <tbody>\n",
       "    <tr>\n",
       "      <th>prediction</th>\n",
       "      <td>13.79916</td>\n",
       "      <td>15.009684</td>\n",
       "      <td>11.823187</td>\n",
       "      <td>16.194972</td>\n",
       "      <td>12.496613</td>\n",
       "      <td>13.462928</td>\n",
       "      <td>12.134427</td>\n",
       "      <td>18.312617</td>\n",
       "      <td>16.491955</td>\n",
       "      <td>10.328818</td>\n",
       "      <td>...</td>\n",
       "      <td>15.620492</td>\n",
       "      <td>11.711222</td>\n",
       "      <td>11.622011</td>\n",
       "      <td>9.911512</td>\n",
       "      <td>16.542575</td>\n",
       "      <td>14.035354</td>\n",
       "      <td>15.143918</td>\n",
       "      <td>12.269129</td>\n",
       "      <td>13.238484</td>\n",
       "      <td>13.897741</td>\n",
       "    </tr>\n",
       "    <tr>\n",
       "      <th>actual</th>\n",
       "      <td>12.12000</td>\n",
       "      <td>20.200000</td>\n",
       "      <td>7.620000</td>\n",
       "      <td>9.170000</td>\n",
       "      <td>12.530000</td>\n",
       "      <td>17.570000</td>\n",
       "      <td>10.640000</td>\n",
       "      <td>15.610000</td>\n",
       "      <td>20.200000</td>\n",
       "      <td>6.030000</td>\n",
       "      <td>...</td>\n",
       "      <td>24.990000</td>\n",
       "      <td>10.990000</td>\n",
       "      <td>16.590000</td>\n",
       "      <td>14.330000</td>\n",
       "      <td>16.590000</td>\n",
       "      <td>7.900000</td>\n",
       "      <td>16.290000</td>\n",
       "      <td>7.120000</td>\n",
       "      <td>13.040000</td>\n",
       "      <td>10.990000</td>\n",
       "    </tr>\n",
       "  </tbody>\n",
       "</table>\n",
       "<p>2 rows × 54896 columns</p>\n",
       "</div>"
      ],
      "text/plain": [
       "               0          1          2          3          4          5      \\\n",
       "prediction  13.79916  15.009684  11.823187  16.194972  12.496613  13.462928   \n",
       "actual      12.12000  20.200000   7.620000   9.170000  12.530000  17.570000   \n",
       "\n",
       "                6          7          8          9        ...          54886  \\\n",
       "prediction  12.134427  18.312617  16.491955  10.328818    ...      15.620492   \n",
       "actual      10.640000  15.610000  20.200000   6.030000    ...      24.990000   \n",
       "\n",
       "                54887      54888      54889      54890      54891      54892  \\\n",
       "prediction  11.711222  11.622011   9.911512  16.542575  14.035354  15.143918   \n",
       "actual      10.990000  16.590000  14.330000  16.590000   7.900000  16.290000   \n",
       "\n",
       "                54893      54894      54895  \n",
       "prediction  12.269129  13.238484  13.897741  \n",
       "actual       7.120000  13.040000  10.990000  \n",
       "\n",
       "[2 rows x 54896 columns]"
      ]
     },
     "execution_count": 48,
     "metadata": {},
     "output_type": "execute_result"
    }
   ],
   "source": [
    "pd.DataFrame(np.array([y_pred,crossVal['X1']]),index=['prediction','actual'])"
   ]
  },
  {
   "cell_type": "markdown",
   "metadata": {},
   "source": [
    "## Model 1.2 - add categorical features"
   ]
  },
  {
   "cell_type": "code",
   "execution_count": 44,
   "metadata": {
    "collapsed": false
   },
   "outputs": [
    {
     "name": "stdout",
     "output_type": "stream",
     "text": [
      "['X4', 'X7', 'X8', 'X9', 'X10', 'X11', 'X12', 'X13', 'X14', 'X17', 'X18', 'X19', 'X20', 'X21', 'X22', 'X24', 'X25', 'X26', 'X27', 'X28', 'X29', 'X30', 'X32']\n",
      "The R2 for train model is: 0.556391\n",
      "The R2 score for validation model is 0.555898\n",
      "The RMSE for validation model is 2.920204\n"
     ]
    }
   ],
   "source": [
    "features_exclude = ['X1','X2','X3','X5','X6','X15','X16','X23','X31','Load_Reason_Hash']\n",
    "feature_cols = [col for col in train_use.columns if col not in features_exclude]\n",
    "print(feature_cols)\n",
    "#feature_cols = ['X4','X11','X13','X24','X22','X25','X26','X27','X30','X18']  # remove X5,X6,X31\n",
    "\n",
    "x = train_use[feature_cols]\n",
    "y = train_use['X1']\n",
    "clf = Ridge(alpha = 1.0)\n",
    "clf.fit(x,y)\n",
    "# predict validation\n",
    "x_val = crossVal[feature_cols]\n",
    "y_pred = clf.predict(x_val)\n",
    "print(\"The R2 for train model is: %f\"%clf.score(x,y))\n",
    "print(\"The R2 score for validation model is %f\" %r2_score(crossVal['X1'],y_pred))\n",
    "print(\"The RMSE for validation model is %f\" %mean_squared_error(crossVal['X1'],y_pred)**(1/2.0))"
   ]
  },
  {
   "cell_type": "code",
   "execution_count": 45,
   "metadata": {
    "collapsed": false
   },
   "outputs": [],
   "source": [
    "pd.DataFrame(np.transpose(np.array([y_pred,crossVal['X1']])),\n",
    "             columns=['Prediction','Actural']).to_csv('cross_metric.csv',sep=',',header=True)"
   ]
  },
  {
   "cell_type": "markdown",
   "metadata": {},
   "source": [
    "## Apply first model on test data set\n"
   ]
  },
  {
   "cell_type": "code",
   "execution_count": 46,
   "metadata": {
    "collapsed": false
   },
   "outputs": [],
   "source": [
    "x = test_use[feature_cols]\n",
    "test_pred = clf.predict(x)\n",
    "np.savetxt('Results from Liang Kuang-Model I.csv',test_pred, fmt='%8.3f',\n",
    "           delimiter=',',newline='\\n',header='Predicted Interest Rate')"
   ]
  },
  {
   "cell_type": "markdown",
   "metadata": {},
   "source": [
    "## Build Model 2 using Random Forest Regressor"
   ]
  },
  {
   "cell_type": "code",
   "execution_count": 47,
   "metadata": {
    "collapsed": false
   },
   "outputs": [
    {
     "name": "stdout",
     "output_type": "stream",
     "text": [
      "['X4', 'X7', 'X8', 'X9', 'X10', 'X11', 'X12', 'X13', 'X14', 'X17', 'X18', 'X19', 'X20', 'X21', 'X22', 'X24', 'X25', 'X26', 'X27', 'X28', 'X29', 'X30', 'X32']\n",
      "The RMSE for validation model is 0.516804\n"
     ]
    }
   ],
   "source": [
    "from sklearn.ensemble import RandomForestRegressor\n",
    "features_exclude = ['X1','X2','X3','X5','X6','X15','X16','X23','X31','Load_Reason_Hash']\n",
    "feature_cols = [col for col in train_use.columns if col not in features_exclude]\n",
    "print(feature_cols)\n",
    "x = train_use[feature_cols]\n",
    "y = train_use['X1']\n",
    "\n",
    "regressor = RandomForestRegressor(n_estimators=100, min_samples_split=1)\n",
    "regressor.fit(x, y)\n",
    "#predict for cross_validation\n",
    "x_val = crossVal[feature_cols]\n",
    "y_pred = regressor.predict(x_val)\n",
    "print(\"The RMSE for validation model is %f\" %mean_squared_error(crossVal['X1'],y_pred)**(1/2.0))\n"
   ]
  },
  {
   "cell_type": "code",
   "execution_count": 48,
   "metadata": {
    "collapsed": true
   },
   "outputs": [],
   "source": [
    "x = test_use[feature_cols]\n",
    "test_pred = regressor.predict(x)\n",
    "np.savetxt('Results from Liang Kuang-Model II.csv',test_pred, fmt='%8.3f',\n",
    "           delimiter=',',newline='\\n',header='Predicted Interest Rate')"
   ]
  },
  {
   "cell_type": "markdown",
   "metadata": {},
   "source": [
    "# Build Model 3 using SVM for non-linear features"
   ]
  },
  {
   "cell_type": "code",
   "execution_count": null,
   "metadata": {
    "collapsed": true
   },
   "outputs": [],
   "source": [
    "# SVM requires scaleing features, otherwise it may stuck on local minimum\n",
    "from sklearn.preprocessing import StandardScaler  \n",
    "scaler = StandardScaler()  \n",
    "scaler.fit(train_use)  \n",
    "X_train = scaler.transform(train_use)  \n",
    "#apply same transformation to test data\n",
    "X_test = scaler.transform(test_use)  \n",
    "train_split, crossVal = train_test_split(X_train, test_size = 0.2, random_state = 100)"
   ]
  },
  {
   "cell_type": "code",
   "execution_count": null,
   "metadata": {
    "collapsed": false
   },
   "outputs": [],
   "source": [
    "from sklearn.svm import SVR\n",
    "features_exclude = ['X1','X2','X3','X5','X6','X15','X16','X23','X31','Load_Reason_Hash']\n",
    "feature_cols = [col for col in train_use.columns if col not in features_exclude]\n",
    "print(feature_cols)\n",
    "\n",
    "x = train_use[feature_cols]\n",
    "y = train_use['X1']\n",
    "svm_regressor = SVR(kernel='poly',C=1e3,degree=2)\n",
    "svm_regressor.fit(x,y)\n",
    "# predict validation\n",
    "x_val = crossVal[feature_cols]\n",
    "y_pred = svm_regressor.predict(x_val)\n",
    "print(\"The R2 for train model is: %f\"%svm_regressor.score(x,y))\n",
    "print(\"The R2 score for validation model is %f\" %r2_score(crossVal['X1'],y_pred))\n",
    "print(\"The RMSE for validation model is %f\" %mean_squared_error(crossVal['X1'],y_pred)**(1/2.0))"
   ]
  },
  {
   "cell_type": "code",
   "execution_count": null,
   "metadata": {
    "collapsed": true
   },
   "outputs": [],
   "source": [
    "x = test_use[feature_cols]\n",
    "test_pred = svm_regressor.predict(x)\n",
    "np.savetxt('Results from Liang Kuang-Model II.csv',test_pred, fmt='%8.3f',\n",
    "           delimiter=',',newline='\\n',header='Predicted Interest Rate')"
   ]
  }
 ],
 "metadata": {
  "anaconda-cloud": {},
  "kernelspec": {
   "display_name": "Python [Root]",
   "language": "python",
   "name": "Python [Root]"
  },
  "language_info": {
   "codemirror_mode": {
    "name": "ipython",
    "version": 2
   },
   "file_extension": ".py",
   "mimetype": "text/x-python",
   "name": "python",
   "nbconvert_exporter": "python",
   "pygments_lexer": "ipython2",
   "version": "2.7.12"
  }
 },
 "nbformat": 4,
 "nbformat_minor": 0
}

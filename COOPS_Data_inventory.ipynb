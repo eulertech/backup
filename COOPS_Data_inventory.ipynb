{
 "cells": [
  {
   "cell_type": "markdown",
   "metadata": {},
   "source": [
    "# This script is to analyze data provided by COOPS\n",
    "## File location: E:\\VDATUM\\Data\\USA_NY_Complete_List_Final_07Apr2016.xls\n",
    "## In this file, there are three sheets containing\n",
    "* Geodetic_Ties\n",
    "* Harmonics\n",
    "* Tidal_Datums\n",
    "\n",
    "<b>2016-10-26  Dr. Liang Kuang<\\b>"
   ]
  },
  {
   "cell_type": "code",
   "execution_count": 1,
   "metadata": {
    "collapsed": true
   },
   "outputs": [],
   "source": [
    "import os, matplotlib\n",
    "import matplotlib.pyplot as plt\n",
    "import numpy as np\n",
    "import pandas as pd"
   ]
  },
  {
   "cell_type": "code",
   "execution_count": 4,
   "metadata": {
    "collapsed": true
   },
   "outputs": [],
   "source": [
    "DataDir = r'E:\\VDATUM\\Data'\n",
    "filename = r'USA_NY_Complete_List_Final_07Apr2016.xls'\n",
    "excelfilename = os.path.join(DataDir,filename)"
   ]
  },
  {
   "cell_type": "code",
   "execution_count": 5,
   "metadata": {
    "collapsed": false
   },
   "outputs": [],
   "source": [
    "xl = pd.ExcelFile(excelfilename)"
   ]
  },
  {
   "cell_type": "code",
   "execution_count": 6,
   "metadata": {
    "collapsed": false
   },
   "outputs": [
    {
     "name": "stdout",
     "output_type": "stream",
     "text": [
      "[u'Geodetic_Ties', u'Harmonics', u'Tidal_Datums']\n"
     ]
    }
   ],
   "source": [
    "print(xl.sheet_names)"
   ]
  },
  {
   "cell_type": "code",
   "execution_count": 7,
   "metadata": {
    "collapsed": true
   },
   "outputs": [],
   "source": [
    "df_tidal_datums = xl.parse(\"Tidal_Datums\")"
   ]
  },
  {
   "cell_type": "code",
   "execution_count": 8,
   "metadata": {
    "collapsed": false
   },
   "outputs": [
    {
     "data": {
      "text/html": [
       "<div>\n",
       "<table border=\"1\" class=\"dataframe\">\n",
       "  <thead>\n",
       "    <tr style=\"text-align: right;\">\n",
       "      <th></th>\n",
       "      <th>STATION_ID (CO-OPS)</th>\n",
       "      <th>Station Name (CO-OPS)</th>\n",
       "      <th>Station Long (CO-OPS)</th>\n",
       "      <th>Station Lat (CO-OPS)</th>\n",
       "      <th>Epoch (CO-OPS)</th>\n",
       "      <th>Published Average NAVD88 for tide station relative to Staff 0 (CO-OPS)</th>\n",
       "      <th>MHHW relative to Staff 0 for tide station (CO-OPS)</th>\n",
       "      <th>MHW relative to Staff 0 for tide station (CO-OPS)</th>\n",
       "      <th>DTL relative to Staff 0 for tide station (CO-OPS)</th>\n",
       "      <th>MTL relative to Staff 0 for tide station (CO-OPS)</th>\n",
       "      <th>...</th>\n",
       "      <th>DHQ for tide station (CO-OPS)</th>\n",
       "      <th>DLQ for tide station  (CO-OPS)</th>\n",
       "      <th>HWI for tide station (CO-OPS)</th>\n",
       "      <th>LWI for tide station  (CO-OPS)</th>\n",
       "      <th>WL_MAX relative to Staff 0 for tide station  (CO-OPS)</th>\n",
       "      <th>WL_MIN relative to Staff 0 for tide station (CO-OPS)</th>\n",
       "      <th>Lowest Astronomical Tide (CO-OPS)</th>\n",
       "      <th>Highest Astronomical Tide (CO-OPS)</th>\n",
       "      <th>Error in Meters</th>\n",
       "      <th>Error in Feet</th>\n",
       "    </tr>\n",
       "  </thead>\n",
       "  <tbody>\n",
       "    <tr>\n",
       "      <th>0</th>\n",
       "      <td>8447435</td>\n",
       "      <td>CHATHAM, LYDIA COVE</td>\n",
       "      <td>-69.951083</td>\n",
       "      <td>41.688472</td>\n",
       "      <td>1983-2001</td>\n",
       "      <td>2.034</td>\n",
       "      <td>2.957</td>\n",
       "      <td>2.834</td>\n",
       "      <td>1.980</td>\n",
       "      <td>1.955</td>\n",
       "      <td>...</td>\n",
       "      <td>0.123</td>\n",
       "      <td>0.072</td>\n",
       "      <td>4.660</td>\n",
       "      <td>11.100</td>\n",
       "      <td>3.858</td>\n",
       "      <td>0.573</td>\n",
       "      <td>NAN</td>\n",
       "      <td>NAN</td>\n",
       "      <td>0.011962</td>\n",
       "      <td>0.039247</td>\n",
       "    </tr>\n",
       "    <tr>\n",
       "      <th>1</th>\n",
       "      <td>8447495</td>\n",
       "      <td>SAQUATUCKET HARBOR</td>\n",
       "      <td>-70.056700</td>\n",
       "      <td>41.668300</td>\n",
       "      <td>1983-2001</td>\n",
       "      <td>2.326</td>\n",
       "      <td>2.863</td>\n",
       "      <td>2.758</td>\n",
       "      <td>2.201</td>\n",
       "      <td>2.190</td>\n",
       "      <td>...</td>\n",
       "      <td>0.106</td>\n",
       "      <td>0.085</td>\n",
       "      <td>4.504</td>\n",
       "      <td>10.197</td>\n",
       "      <td>NAN</td>\n",
       "      <td>NAN</td>\n",
       "      <td>NAN</td>\n",
       "      <td>NAN</td>\n",
       "      <td>0.016461</td>\n",
       "      <td>0.054006</td>\n",
       "    </tr>\n",
       "    <tr>\n",
       "      <th>2</th>\n",
       "      <td>8447505</td>\n",
       "      <td>CHATHAM, STAGE HARBOR</td>\n",
       "      <td>-69.966700</td>\n",
       "      <td>41.666700</td>\n",
       "      <td>1983-2001</td>\n",
       "      <td>1.767</td>\n",
       "      <td>2.344</td>\n",
       "      <td>2.232</td>\n",
       "      <td>1.647</td>\n",
       "      <td>1.630</td>\n",
       "      <td>...</td>\n",
       "      <td>0.113</td>\n",
       "      <td>0.080</td>\n",
       "      <td>4.504</td>\n",
       "      <td>10.250</td>\n",
       "      <td>NAN</td>\n",
       "      <td>NAN</td>\n",
       "      <td>NAN</td>\n",
       "      <td>NAN</td>\n",
       "      <td>0.020276</td>\n",
       "      <td>0.066523</td>\n",
       "    </tr>\n",
       "    <tr>\n",
       "      <th>3</th>\n",
       "      <td>8447605</td>\n",
       "      <td>HYANNISPORT</td>\n",
       "      <td>-70.300000</td>\n",
       "      <td>41.631700</td>\n",
       "      <td>1983-2001</td>\n",
       "      <td>NAN</td>\n",
       "      <td>4.932</td>\n",
       "      <td>4.825</td>\n",
       "      <td>4.353</td>\n",
       "      <td>4.338</td>\n",
       "      <td>...</td>\n",
       "      <td>0.108</td>\n",
       "      <td>0.078</td>\n",
       "      <td>4.737</td>\n",
       "      <td>10.373</td>\n",
       "      <td>NAN</td>\n",
       "      <td>NAN</td>\n",
       "      <td>3.522</td>\n",
       "      <td>5.232</td>\n",
       "      <td>0.017588</td>\n",
       "      <td>0.057703</td>\n",
       "    </tr>\n",
       "    <tr>\n",
       "      <th>4</th>\n",
       "      <td>8447685</td>\n",
       "      <td>CHAPPAQUOIT POINT, BUZZARDS BAY</td>\n",
       "      <td>-70.651700</td>\n",
       "      <td>41.605000</td>\n",
       "      <td>1983-2001</td>\n",
       "      <td>NAN</td>\n",
       "      <td>2.472</td>\n",
       "      <td>2.392</td>\n",
       "      <td>1.825</td>\n",
       "      <td>1.809</td>\n",
       "      <td>...</td>\n",
       "      <td>0.081</td>\n",
       "      <td>0.049</td>\n",
       "      <td>0.369</td>\n",
       "      <td>6.049</td>\n",
       "      <td>NAN</td>\n",
       "      <td>NAN</td>\n",
       "      <td>0.864</td>\n",
       "      <td>2.837</td>\n",
       "      <td>0.019027</td>\n",
       "      <td>0.062425</td>\n",
       "    </tr>\n",
       "  </tbody>\n",
       "</table>\n",
       "<p>5 rows × 25 columns</p>\n",
       "</div>"
      ],
      "text/plain": [
       "   STATION_ID (CO-OPS)            Station Name (CO-OPS)  \\\n",
       "0              8447435              CHATHAM, LYDIA COVE   \n",
       "1              8447495               SAQUATUCKET HARBOR   \n",
       "2              8447505            CHATHAM, STAGE HARBOR   \n",
       "3              8447605                      HYANNISPORT   \n",
       "4              8447685  CHAPPAQUOIT POINT, BUZZARDS BAY   \n",
       "\n",
       "   Station Long (CO-OPS)  Station Lat (CO-OPS) Epoch (CO-OPS)  \\\n",
       "0             -69.951083             41.688472      1983-2001   \n",
       "1             -70.056700             41.668300      1983-2001   \n",
       "2             -69.966700             41.666700      1983-2001   \n",
       "3             -70.300000             41.631700      1983-2001   \n",
       "4             -70.651700             41.605000      1983-2001   \n",
       "\n",
       "  Published Average NAVD88 for tide station relative to Staff 0 (CO-OPS)  \\\n",
       "0                                              2.034                       \n",
       "1                                              2.326                       \n",
       "2                                              1.767                       \n",
       "3                                                NAN                       \n",
       "4                                                NAN                       \n",
       "\n",
       "   MHHW relative to Staff 0 for tide station (CO-OPS)   \\\n",
       "0                                              2.957     \n",
       "1                                              2.863     \n",
       "2                                              2.344     \n",
       "3                                              4.932     \n",
       "4                                              2.472     \n",
       "\n",
       "   MHW relative to Staff 0 for tide station (CO-OPS)   \\\n",
       "0                                              2.834    \n",
       "1                                              2.758    \n",
       "2                                              2.232    \n",
       "3                                              4.825    \n",
       "4                                              2.392    \n",
       "\n",
       "   DTL relative to Staff 0 for tide station (CO-OPS)   \\\n",
       "0                                              1.980    \n",
       "1                                              2.201    \n",
       "2                                              1.647    \n",
       "3                                              4.353    \n",
       "4                                              1.825    \n",
       "\n",
       "   MTL relative to Staff 0 for tide station (CO-OPS)       ...       \\\n",
       "0                                              1.955       ...        \n",
       "1                                              2.190       ...        \n",
       "2                                              1.630       ...        \n",
       "3                                              4.338       ...        \n",
       "4                                              1.809       ...        \n",
       "\n",
       "  DHQ for tide station (CO-OPS)   DLQ for tide station  (CO-OPS)  \\\n",
       "0                          0.123                           0.072   \n",
       "1                          0.106                           0.085   \n",
       "2                          0.113                           0.080   \n",
       "3                          0.108                           0.078   \n",
       "4                          0.081                           0.049   \n",
       "\n",
       "   HWI for tide station (CO-OPS)   LWI for tide station  (CO-OPS)  \\\n",
       "0                           4.660                          11.100   \n",
       "1                           4.504                          10.197   \n",
       "2                           4.504                          10.250   \n",
       "3                           4.737                          10.373   \n",
       "4                           0.369                           6.049   \n",
       "\n",
       "   WL_MAX relative to Staff 0 for tide station  (CO-OPS)  \\\n",
       "0                                              3.858       \n",
       "1                                                NAN       \n",
       "2                                                NAN       \n",
       "3                                                NAN       \n",
       "4                                                NAN       \n",
       "\n",
       "   WL_MIN relative to Staff 0 for tide station (CO-OPS)   \\\n",
       "0                                              0.573       \n",
       "1                                                NAN       \n",
       "2                                                NAN       \n",
       "3                                                NAN       \n",
       "4                                                NAN       \n",
       "\n",
       "   Lowest Astronomical Tide (CO-OPS)  Highest Astronomical Tide (CO-OPS)  \\\n",
       "0                                NAN                                 NAN   \n",
       "1                                NAN                                 NAN   \n",
       "2                                NAN                                 NAN   \n",
       "3                              3.522                               5.232   \n",
       "4                              0.864                               2.837   \n",
       "\n",
       "   Error in Meters Error in Feet  \n",
       "0         0.011962      0.039247  \n",
       "1         0.016461      0.054006  \n",
       "2         0.020276      0.066523  \n",
       "3         0.017588      0.057703  \n",
       "4         0.019027      0.062425  \n",
       "\n",
       "[5 rows x 25 columns]"
      ]
     },
     "execution_count": 8,
     "metadata": {},
     "output_type": "execute_result"
    }
   ],
   "source": [
    "df_tidal_datums.head()"
   ]
  },
  {
   "cell_type": "code",
   "execution_count": 9,
   "metadata": {
    "collapsed": false
   },
   "outputs": [
    {
     "data": {
      "text/plain": [
       "Index([u'STATION_ID (CO-OPS)', u'Station Name (CO-OPS)',\n",
       "       u'Station Long (CO-OPS)', u'Station Lat (CO-OPS)', u'Epoch (CO-OPS)',\n",
       "       u'Published Average NAVD88 for tide station relative to Staff 0 (CO-OPS)',\n",
       "       u'MHHW relative to Staff 0 for tide station (CO-OPS) ',\n",
       "       u'MHW relative to Staff 0 for tide station (CO-OPS) ',\n",
       "       u'DTL relative to Staff 0 for tide station (CO-OPS) ',\n",
       "       u'MTL relative to Staff 0 for tide station (CO-OPS) ',\n",
       "       u'MSL relative to Staff 0 for tide station (CO-OPS) ',\n",
       "       u'MLW relative to Staff 0 for tide station (CO-OPS) ',\n",
       "       u'MLLW relative to Staff 0 for tide station (CO-OPS) ',\n",
       "       u'GT for tide station (CO-OPS) ', u'MN for tide station (CO-OPS) ',\n",
       "       u'DHQ for tide station (CO-OPS) ', u'DLQ for tide station  (CO-OPS)',\n",
       "       u'HWI for tide station (CO-OPS) ', u'LWI for tide station  (CO-OPS)',\n",
       "       u'WL_MAX relative to Staff 0 for tide station  (CO-OPS)',\n",
       "       u'WL_MIN relative to Staff 0 for tide station (CO-OPS) ',\n",
       "       u'Lowest Astronomical Tide (CO-OPS)',\n",
       "       u'Highest Astronomical Tide (CO-OPS)', u'Error in Meters',\n",
       "       u'Error in Feet'],\n",
       "      dtype='object')"
      ]
     },
     "execution_count": 9,
     "metadata": {},
     "output_type": "execute_result"
    }
   ],
   "source": [
    "df_tidal_datums.columns"
   ]
  },
  {
   "cell_type": "code",
   "execution_count": null,
   "metadata": {
    "collapsed": true
   },
   "outputs": [],
   "source": []
  }
 ],
 "metadata": {
  "kernelspec": {
   "display_name": "Python [Root]",
   "language": "python",
   "name": "Python [Root]"
  },
  "language_info": {
   "codemirror_mode": {
    "name": "ipython",
    "version": 2
   },
   "file_extension": ".py",
   "mimetype": "text/x-python",
   "name": "python",
   "nbconvert_exporter": "python",
   "pygments_lexer": "ipython2",
   "version": "2.7.12"
  }
 },
 "nbformat": 4,
 "nbformat_minor": 0
}
